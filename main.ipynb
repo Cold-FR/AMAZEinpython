{
 "cells": [
  {
   "cell_type": "markdown",
   "id": "97b451fb",
   "metadata": {},
   "source": [
    "# 3 Implémentation"
   ]
  },
  {
   "cell_type": "code",
   "outputs": [],
   "source": [
    "import random as rd"
   ],
   "metadata": {
    "collapsed": false,
    "ExecuteTime": {
     "end_time": "2024-03-13T21:52:46.973730Z",
     "start_time": "2024-03-13T21:52:46.969026Z"
    }
   },
   "id": "3224a69af396bec5",
   "execution_count": 218
  },
  {
   "cell_type": "code",
   "outputs": [],
   "source": [
    "class Maze:\n",
    "    \"\"\"\n",
    "    Classe Labyrinthe\n",
    "    Représentation sous forme de graphe non-orienté\n",
    "    dont chaque sommet est une cellule (un tuple (l,c))\n",
    "    et dont la structure est représentée par un dictionnaire\n",
    "      - clés : sommets\n",
    "      - valeurs : ensemble des sommets voisins accessibles\n",
    "    \"\"\"\n",
    "    def __init__(self, height, width):\n",
    "        \"\"\"\n",
    "        Constructeur d'un labyrinthe de height cellules de haut \n",
    "        et de width cellules de large \n",
    "        Les voisinages sont initialisés à des ensembles vides\n",
    "        Remarque : dans le labyrinthe créé, chaque cellule est complètement emmurée\n",
    "        \"\"\"\n",
    "        self.height    = height\n",
    "        self.width     = width\n",
    "        self.neighbors = {(i,j): set() for i in range(height) for j in range (width)}\n",
    "\n",
    "    def info(self):\n",
    "        \"\"\"\n",
    "        **NE PAS MODIFIER CETTE MÉTHODE**\n",
    "        Affichage des attributs d'un objet 'Maze' (fonction utile pour deboguer)\n",
    "        Retour:\n",
    "            chaîne (string): description textuelle des attributs de l'objet\n",
    "        \"\"\"\n",
    "        txt = \"**Informations sur le labyrinthe**\\n\"\n",
    "        txt += f\"- Dimensions de la grille : {self.height} x {self.width}\\n\"\n",
    "        txt += \"- Voisinages :\\n\"\n",
    "        txt += str(self.neighbors)+\"\\n\"\n",
    "        valid = True\n",
    "        for c1 in {(i, j) for i in range(self.height) for j in range(self.width)}:\n",
    "            for c2 in self.neighbors[c1]:\n",
    "                if c1 not in self.neighbors[c2]:\n",
    "                    valid = False\n",
    "                    break\n",
    "            else:\n",
    "                continue\n",
    "            break\n",
    "        txt += \"- Structure cohérente\\n\" if valid else f\"- Structure incohérente : {c1} X {c2}\\n\"\n",
    "        return txt\n",
    "\n",
    "    def __str__(self):\n",
    "        \"\"\"\n",
    "        **NE PAS MODIFIER CETTE MÉTHODE**\n",
    "        Représentation textuelle d'un objet Maze (en utilisant des caractères ascii)\n",
    "        Retour:\n",
    "             chaîne (str) : chaîne de caractères représentant le labyrinthe\n",
    "        \"\"\"\n",
    "        txt = \"\"\n",
    "        # Première ligne\n",
    "        txt += \"┏\"\n",
    "        for j in range(self.width-1):\n",
    "            txt += \"━━━┳\"\n",
    "        txt += \"━━━┓\\n\"\n",
    "        txt += \"┃\"\n",
    "        for j in range(self.width-1):\n",
    "            txt += \"   ┃\" if (0,j+1) not in self.neighbors[(0,j)] else \"    \"\n",
    "        txt += \"   ┃\\n\"\n",
    "        # Lignes normales\n",
    "        for i in range(self.height-1):\n",
    "            txt += \"┣\"\n",
    "            for j in range(self.width-1):\n",
    "                txt += \"━━━╋\" if (i+1,j) not in self.neighbors[(i,j)] else \"   ╋\"\n",
    "            txt += \"━━━┫\\n\" if (i+1,self.width-1) not in self.neighbors[(i,self.width-1)] else \"   ┫\\n\"\n",
    "            txt += \"┃\"\n",
    "            for j in range(self.width):\n",
    "                txt += \"   ┃\" if (i+1,j+1) not in self.neighbors[(i+1,j)] else \"    \"\n",
    "            txt += \"\\n\"\n",
    "        # Bas du tableau\n",
    "        txt += \"┗\"\n",
    "        for i in range(self.width-1):\n",
    "            txt += \"━━━┻\"\n",
    "        txt += \"━━━┛\\n\"\n",
    "\n",
    "        return txt\n",
    "    \n",
    "    def add_wall(self, c1: tuple, c2: tuple) -> None:\n",
    "        \"\"\"\n",
    "        Ajout d'un mur entre les cellules c1 et c2\n",
    "        :param c1: tuple (l,c) des coordonnées de la première cellule\n",
    "        :param c2: tuple (l,c) des coordonnées de la seconde cellule\n",
    "        :return: None\n",
    "        \"\"\"\n",
    "        # On teste si les sommets sont bien dans le labyrinthe\n",
    "        assert 0 <= c1[0] < self.height and \\\n",
    "            0 <= c1[1] < self.width and \\\n",
    "            0 <= c2[0] < self.height and \\\n",
    "            0 <= c2[1] < self.width, \\\n",
    "            f\"Erreur lors de l'ajout d'un mur entre {c1} et {c2} : les coordonnées de sont pas compatibles avec les dimensions du labyrinthe\"\n",
    "        # Ajout du mur\n",
    "        if c2 in self.neighbors[c1]:      # Si c2 est dans les voisines de c1\n",
    "            self.neighbors[c1].remove(c2) # on le retire\n",
    "        if c1 in self.neighbors[c2]:      # Si c3 est dans les voisines de c2\n",
    "            self.neighbors[c2].remove(c1) # on le retire\n",
    "            \n",
    "    def remove_wall(self, c1: tuple, c2: tuple) -> None:\n",
    "        \"\"\"\n",
    "        Suppression d'un mur entre les cellules c1 et c2\n",
    "        :param c1: tuple (l,c) des coordonnées de la première cellule\n",
    "        :param c2: tuple (l,c) des coordonnées de la seconde cellule\n",
    "        :return: None\n",
    "        \"\"\"\n",
    "        # On teste si les sommets sont bien dans le labyrinthe\n",
    "        assert 0 <= c1[0] < self.height and \\\n",
    "            0 <= c1[1] < self.width and \\\n",
    "            0 <= c2[0] < self.height and \\\n",
    "            0 <= c2[1] < self.width, \\\n",
    "            f\"Erreur lors de la suppression d'un mur entre {c1} et {c2} : les coordonnées de sont pas compatibles avec les dimensions du labyrinthe\"\n",
    "        # Suppression du mur\n",
    "        if c2 not in self.neighbors[c1]:  # Si c2 n'est pas dans les voisines de c1\n",
    "            self.neighbors[c1].add(c2)    # on l'ajoute\n",
    "        if c1 not in self.neighbors[c2]:  # Si c3 n'est pas dans les voisines de c2\n",
    "            self.neighbors[c2].add(c1)    # on l'ajoute\n",
    "            \n",
    "    def get_walls(self) -> list[list[tuple]]:\n",
    "        \"\"\"\n",
    "        Renvoie la liste des murs du labyrinthe\n",
    "        :return: list[list[tuple]] : liste des murs du labyrinthe\n",
    "        \"\"\"\n",
    "        walls = []\n",
    "        for i in range(self.height):\n",
    "            for j in range(self.width):\n",
    "                if (i+1, j) not in self.neighbors[(i,j)] and i+1 < self.height:\n",
    "                    walls.append([(i,j), (i+1, j)])\n",
    "                if (i, j+1) not in self.neighbors[(i,j)] and j+1 < self.width:\n",
    "                    walls.append([(i,j), (i, j+1)])\n",
    "        return walls\n",
    "    \n",
    "    def fill(self) -> None:\n",
    "        \"\"\"\n",
    "        Remplissage complet du labyrinthe\n",
    "        :return: None\n",
    "        \"\"\"\n",
    "        for c1 in {(i, j) for i in range(self.height) for j in range(self.width)}:\n",
    "            for c2 in {(i, j) for i in range(self.height) for j in range(self.width)}:\n",
    "                if c1 != c2:\n",
    "                    self.add_wall(c1, c2)\n",
    "                    \n",
    "    def empty(self) -> None:\n",
    "        \"\"\"\n",
    "        Vidage complet du labyrinthe\n",
    "        :return: None\n",
    "        \"\"\"\n",
    "        for c1 in {(i, j) for i in range(self.height) for j in range(self.width)}:\n",
    "            for c2 in {(i, j) for i in range(self.height) for j in range(self.width)}:\n",
    "                if c1 != c2:\n",
    "                    self.remove_wall(c1, c2)\n",
    "                    \n",
    "    def get_contiguous_cells(self, c: tuple) -> list[tuple]:\n",
    "        \"\"\"\n",
    "        Renvoie la liste des cellules contiguës à la cellule c\n",
    "        :param c: tuple (l,c) des coordonnées de la cellule\n",
    "        :return: list[tuple] : liste des cellules contiguës à c\n",
    "        \"\"\"\n",
    "        contiguous = []\n",
    "        \n",
    "        if c[0] > 0:\n",
    "            contiguous.append((c[0]-1, c[1]))\n",
    "        if c[0] < self.height-1:\n",
    "            contiguous.append((c[0]+1, c[1]))\n",
    "        if c[1] > 0:\n",
    "            contiguous.append((c[0], c[1]-1))\n",
    "        if c[1] < self.width-1:\n",
    "            contiguous.append((c[0], c[1]+1))\n",
    "        \n",
    "        return contiguous\n",
    "        \n",
    "    \n",
    "    def get_reachable_cells(self, c: tuple) -> list[tuple]:\n",
    "        \"\"\"\n",
    "        Renvoie la liste des cellules accessibles depuis la cellule c\n",
    "        :param c: tuple (l,c) des coordonnées de la cellule\n",
    "        :return: list[tuple] : liste des cellules accessibles depuis c\n",
    "        \"\"\"\n",
    "        reachable = []\n",
    "        for cell in self.get_contiguous_cells(c):\n",
    "            if cell in self.neighbors[c]:\n",
    "                reachable.append(cell)\n",
    "                \n",
    "        return reachable\n",
    "    \n",
    "    @classmethod\n",
    "    def gen_btree(cls, h: int, w: int) -> 'Maze':\n",
    "        \"\"\"\n",
    "        Génération d'un labyrinthe de dimensions height x width\n",
    "        selon la méthode de l'arbre binaire\n",
    "        :param h: int : hauteur du labyrinthe\n",
    "        :param w: int : largeur du labyrinthe\n",
    "        :return: Maze : labyrinthe généré\n",
    "        \"\"\"\n",
    "        laby = cls(h, w)\n",
    "        laby.fill()\n",
    "        for i in range(h):\n",
    "            print('i', i)\n",
    "            for j in range(w):\n",
    "                print('j', j)\n",
    "                cell = (i, j)\n",
    "                if i < h-1 and j < w-1:\n",
    "                    if (i+1, j) not in laby.neighbors[cell] and (i, j+1) not in laby.neighbors[cell]:\n",
    "                        laby.remove_wall(cell, (i+1, j) if rd.choice([True, False]) else (i, j+1))\n",
    "                elif i < h-1:\n",
    "                    if (i+1, j) not in laby.neighbors[cell]:\n",
    "                        laby.remove_wall(cell, (i+1, j))\n",
    "                elif j < w-1:\n",
    "                    if (i, j+1) not in laby.neighbors[cell]:\n",
    "                        laby.remove_wall(cell, (i, j+1))\n",
    "                        \n",
    "        return laby\n",
    "    \n",
    "    @classmethod\n",
    "    def gen_sidewinder(cls, h: int, w: int) -> 'Maze':\n",
    "        \"\"\"\n",
    "        Génération d'un labyrinthe de dimensions height x width\n",
    "        selon la méthode du sidewinder\n",
    "        :param h: int : hauteur du labyrinthe\n",
    "        :param w: int : largeur du labyrinthe\n",
    "        :return: Maze : labyrinthe généré\n",
    "        \"\"\"\n",
    "        laby = cls(h, w)\n",
    "        laby.fill()\n",
    "        for i in range(h - 1):\n",
    "            print('i', i)\n",
    "            sequence = []\n",
    "            for j in range(w - 1):\n",
    "                print('j', j)\n",
    "                cell = (i, j)\n",
    "                sequence.append(cell)\n",
    "                if rd.choice([True, False]):\n",
    "                    laby.remove_wall(cell, (i, j + 1))\n",
    "                else:\n",
    "                    random_cell = rd.choice(sequence)\n",
    "                    laby.remove_wall(random_cell, (random_cell[0] + 1, random_cell[1]))\n",
    "                    sequence = []\n",
    "            sequence.append((i, w - 1))\n",
    "            random_cell = rd.choice(sequence)\n",
    "            laby.remove_wall(random_cell, (random_cell[0] + 1, random_cell[1]))\n",
    "        \n",
    "        for j in range(w - 1):\n",
    "            cell = (h - 1, j)\n",
    "            laby.remove_wall(cell, (h - 1, j + 1))\n",
    "                    \n",
    "        return laby\n",
    "    \n",
    "    @classmethod\n",
    "    def gen_fusion(cls, h: int, w: int) -> 'Maze':\n",
    "        \"\"\"\n",
    "        Génération d'un labyrinthe de dimensions height x width\n",
    "        selon la méthode de la fusion de chemin\n",
    "        :param h: int : hauteur du labyrinthe\n",
    "        :param w: int : largeur du labyrinthe\n",
    "        :return: Maze : labyrinthe généré\n",
    "        \"\"\"\n",
    "        laby = cls(h, w)\n",
    "        laby.fill()\n",
    "        labels = {cell: i for i, cell in enumerate(laby.neighbors)}\n",
    "        walls = laby.get_walls()\n",
    "        rd.shuffle(walls)\n",
    "        for wall in walls:\n",
    "            c1, c2 = wall\n",
    "            if labels[c1] != labels[c2]:\n",
    "                laby.remove_wall(c1, c2)\n",
    "                label1, label2 = labels[c1], labels[c2]\n",
    "                for cell in labels:\n",
    "                    if labels[cell] == label2:\n",
    "                        labels[cell] = label1\n",
    "                \n",
    "        return laby\n",
    "        \n",
    "            "
   ],
   "metadata": {
    "ExecuteTime": {
     "end_time": "2024-03-13T21:52:47.105184Z",
     "start_time": "2024-03-13T21:52:47.070774Z"
    }
   },
   "id": "4913b177",
   "execution_count": 219
  },
  {
   "cell_type": "code",
   "execution_count": 220,
   "id": "d0cb7487",
   "metadata": {
    "ExecuteTime": {
     "end_time": "2024-03-13T21:52:47.112171Z",
     "start_time": "2024-03-13T21:52:47.107185Z"
    }
   },
   "outputs": [
    {
     "name": "stdout",
     "output_type": "stream",
     "text": [
      "**Informations sur le labyrinthe**\n",
      "- Dimensions de la grille : 4 x 4\n",
      "- Voisinages :\n",
      "{(0, 0): set(), (0, 1): set(), (0, 2): set(), (0, 3): set(), (1, 0): set(), (1, 1): set(), (1, 2): set(), (1, 3): set(), (2, 0): set(), (2, 1): set(), (2, 2): set(), (2, 3): set(), (3, 0): set(), (3, 1): set(), (3, 2): set(), (3, 3): set()}\n",
      "- Structure cohérente\n"
     ]
    }
   ],
   "source": [
    "laby = Maze(4, 4)\n",
    "print(laby.info())"
   ]
  },
  {
   "cell_type": "code",
   "execution_count": 221,
   "id": "0a27ff12",
   "metadata": {
    "ExecuteTime": {
     "end_time": "2024-03-13T21:52:47.128794Z",
     "start_time": "2024-03-13T21:52:47.124113Z"
    }
   },
   "outputs": [
    {
     "name": "stdout",
     "output_type": "stream",
     "text": [
      "┏━━━┳━━━┳━━━┳━━━┓\n",
      "┃   ┃   ┃   ┃   ┃\n",
      "┣━━━╋━━━╋━━━╋━━━┫\n",
      "┃   ┃   ┃   ┃   ┃\n",
      "┣━━━╋━━━╋━━━╋━━━┫\n",
      "┃   ┃   ┃   ┃   ┃\n",
      "┣━━━╋━━━╋━━━╋━━━┫\n",
      "┃   ┃   ┃   ┃   ┃\n",
      "┗━━━┻━━━┻━━━┻━━━┛\n"
     ]
    }
   ],
   "source": [
    "print(laby)"
   ]
  },
  {
   "cell_type": "code",
   "execution_count": 222,
   "id": "e5ec0ef8",
   "metadata": {
    "ExecuteTime": {
     "end_time": "2024-03-13T21:52:47.149081Z",
     "start_time": "2024-03-13T21:52:47.141800Z"
    }
   },
   "outputs": [
    {
     "name": "stdout",
     "output_type": "stream",
     "text": [
      "┏━━━┳━━━┳━━━┳━━━┓\n",
      "┃   ┃           ┃\n",
      "┣   ╋   ╋━━━╋   ┫\n",
      "┃   ┃       ┃   ┃\n",
      "┣   ╋━━━╋   ╋   ┫\n",
      "┃           ┃   ┃\n",
      "┣   ╋━━━╋━━━╋   ┫\n",
      "┃           ┃   ┃\n",
      "┗━━━┻━━━┻━━━┻━━━┛\n"
     ]
    }
   ],
   "source": [
    "laby.neighbors = {\n",
    "    (0, 0): {(1, 0)},\n",
    "    (0, 1): {(0, 2), (1, 1)},\n",
    "    (0, 2): {(0, 1), (0, 3)},\n",
    "    (0, 3): {(0, 2), (1, 3)},\n",
    "    (1, 0): {(2, 0), (0, 0)},\n",
    "    (1, 1): {(0, 1), (1, 2)},\n",
    "    (1, 2): {(1, 1), (2, 2)},\n",
    "    (1, 3): {(2, 3), (0, 3)},\n",
    "    (2, 0): {(1, 0), (2, 1), (3, 0)},\n",
    "    (2, 1): {(2, 0), (2, 2)},\n",
    "    (2, 2): {(1, 2), (2, 1)},\n",
    "    (2, 3): {(3, 3), (1, 3)},\n",
    "    (3, 0): {(3, 1), (2, 0)},\n",
    "    (3, 1): {(3, 2), (3, 0)},\n",
    "    (3, 2): {(3, 1)},\n",
    "    (3, 3): {(2, 3)}\n",
    "}\n",
    "\n",
    "print(laby)"
   ]
  },
  {
   "cell_type": "code",
   "execution_count": 223,
   "id": "e5533653",
   "metadata": {
    "ExecuteTime": {
     "end_time": "2024-03-13T21:52:47.162101Z",
     "start_time": "2024-03-13T21:52:47.157600Z"
    }
   },
   "outputs": [
    {
     "name": "stdout",
     "output_type": "stream",
     "text": [
      "┏━━━┳━━━┳━━━┳━━━┓\n",
      "┃   ┃           ┃\n",
      "┣   ╋   ╋━━━╋   ┫\n",
      "┃   ┃       ┃   ┃\n",
      "┣   ╋━━━╋   ╋━━━┫\n",
      "┃           ┃   ┃\n",
      "┣   ╋━━━╋━━━╋   ┫\n",
      "┃           ┃   ┃\n",
      "┗━━━┻━━━┻━━━┻━━━┛\n"
     ]
    }
   ],
   "source": [
    "laby.neighbors[(1,3)].remove((2,3))\n",
    "laby.neighbors[(2,3)].remove((1,3))\n",
    "print(laby)"
   ]
  },
  {
   "cell_type": "code",
   "execution_count": 224,
   "id": "d5b8576c",
   "metadata": {
    "ExecuteTime": {
     "end_time": "2024-03-13T21:52:47.212081Z",
     "start_time": "2024-03-13T21:52:47.207095Z"
    }
   },
   "outputs": [
    {
     "name": "stdout",
     "output_type": "stream",
     "text": [
      "┏━━━┳━━━┳━━━┳━━━┓\n",
      "┃   ┃           ┃\n",
      "┣   ╋   ╋━━━╋   ┫\n",
      "┃   ┃       ┃   ┃\n",
      "┣   ╋━━━╋   ╋   ┫\n",
      "┃           ┃   ┃\n",
      "┣   ╋━━━╋━━━╋   ┫\n",
      "┃           ┃   ┃\n",
      "┗━━━┻━━━┻━━━┻━━━┛\n"
     ]
    }
   ],
   "source": [
    "laby.neighbors[(1, 3)].add((2, 3))\n",
    "laby.neighbors[(2, 3)].add((1, 3))\n",
    "print(laby)"
   ]
  },
  {
   "cell_type": "code",
   "execution_count": 225,
   "id": "51453914",
   "metadata": {
    "ExecuteTime": {
     "end_time": "2024-03-13T21:52:47.234859Z",
     "start_time": "2024-03-13T21:52:47.229918Z"
    }
   },
   "outputs": [
    {
     "name": "stdout",
     "output_type": "stream",
     "text": [
      "┏━━━┳━━━┳━━━┳━━━┓\n",
      "┃   ┃           ┃\n",
      "┣   ╋   ╋━━━╋   ┫\n",
      "┃   ┃       ┃   ┃\n",
      "┣   ╋━━━╋   ╋━━━┫\n",
      "┃           ┃   ┃\n",
      "┣   ╋━━━╋━━━╋   ┫\n",
      "┃           ┃   ┃\n",
      "┗━━━┻━━━┻━━━┻━━━┛\n",
      "\n",
      "**Informations sur le labyrinthe**\n",
      "- Dimensions de la grille : 4 x 4\n",
      "- Voisinages :\n",
      "{(0, 0): {(1, 0)}, (0, 1): {(1, 1), (0, 2)}, (0, 2): {(0, 1), (0, 3)}, (0, 3): {(0, 2), (1, 3)}, (1, 0): {(2, 0), (0, 0)}, (1, 1): {(0, 1), (1, 2)}, (1, 2): {(1, 1), (2, 2)}, (1, 3): {(0, 3)}, (2, 0): {(1, 0), (2, 1), (3, 0)}, (2, 1): {(2, 0), (2, 2)}, (2, 2): {(1, 2), (2, 1)}, (2, 3): {(3, 3), (1, 3)}, (3, 0): {(3, 1), (2, 0)}, (3, 1): {(3, 2), (3, 0)}, (3, 2): {(3, 1)}, (3, 3): {(2, 3)}}\n",
      "- Structure incohérente : (2, 3) X (1, 3)\n"
     ]
    }
   ],
   "source": [
    "laby.neighbors[(1, 3)].remove((2, 3))\n",
    "print(laby)\n",
    "print(laby.info())"
   ]
  },
  {
   "cell_type": "code",
   "execution_count": 226,
   "id": "8a7a490d",
   "metadata": {
    "ExecuteTime": {
     "end_time": "2024-03-13T21:52:47.301268Z",
     "start_time": "2024-03-13T21:52:47.298454Z"
    }
   },
   "outputs": [],
   "source": [
    "laby.neighbors[(2, 3)].remove((1,3))"
   ]
  },
  {
   "cell_type": "code",
   "execution_count": 227,
   "id": "98548c2a",
   "metadata": {
    "ExecuteTime": {
     "end_time": "2024-03-13T21:52:47.333200Z",
     "start_time": "2024-03-13T21:52:47.327672Z"
    }
   },
   "outputs": [
    {
     "name": "stdout",
     "output_type": "stream",
     "text": [
      "Il y a un mur entre (1, 3) et (2, 3) car (1, 3) n'est pas dans le voisinage de (2, 3) et (2, 3) n'est pas dans le voisinage de (1, 3)\n"
     ]
    }
   ],
   "source": [
    "c1 = (1, 3)\n",
    "c2 = (2, 3)\n",
    "if c1 in laby.neighbors[c2] and c2 in laby.neighbors[c1]:\n",
    "    print(f\"Il n'y a pas de mur entre {c1} et {c2} car elles sont mutuellement voisines\")\n",
    "elif c1 not in laby.neighbors[c2] and c2 not in laby.neighbors[c1]:\n",
    "    print(f\"Il y a un mur entre {c1} et {c2} car {c1} n'est pas dans le voisinage de {c2} et {c2} n'est pas dans le voisinage de {c1}\")\n",
    "else:\n",
    "    print(f\"Il y a une incohérence de réciprocité des voisinages de {c1} et {c2}\")"
   ]
  },
  {
   "cell_type": "code",
   "execution_count": 228,
   "id": "75f360f6",
   "metadata": {
    "ExecuteTime": {
     "end_time": "2024-03-13T21:52:47.388609Z",
     "start_time": "2024-03-13T21:52:47.382827Z"
    }
   },
   "outputs": [
    {
     "name": "stdout",
     "output_type": "stream",
     "text": [
      "(1, 3) n'est pas accessible depuis (2, 3) et vice-versa\n"
     ]
    }
   ],
   "source": [
    "c1 = (1, 3)\n",
    "c2 = (2, 3)\n",
    "if c1 in laby.neighbors[c2] and c2 in laby.neighbors[c1]:\n",
    "    print(f\"{c1} est accessible depuis {c2} et vice-versa\")\n",
    "elif c1 not in laby.neighbors[c2] and c2 not in laby.neighbors[c1]:\n",
    "    print(f\"{c1} n'est pas accessible depuis {c2} et vice-versa\")\n",
    "else:\n",
    "    print(f\"Il y a une incohérence de réciprocité des voisinages de {c1} et {c2}\")"
   ]
  },
  {
   "cell_type": "code",
   "execution_count": 229,
   "id": "f4fa14e0",
   "metadata": {
    "ExecuteTime": {
     "end_time": "2024-03-13T21:52:47.420502Z",
     "start_time": "2024-03-13T21:52:47.414670Z"
    }
   },
   "outputs": [
    {
     "name": "stdout",
     "output_type": "stream",
     "text": [
      "Liste des cellules : \n",
      "[(0, 0), (0, 1), (0, 2), (0, 3), (1, 0), (1, 1), (1, 2), (1, 3), (2, 0), (2, 1), (2, 2), (2, 3), (3, 0), (3, 1), (3, 2), (3, 3)]\n"
     ]
    }
   ],
   "source": [
    "L = []\n",
    "for i in range(laby.height):\n",
    "    for j in range(laby.width):\n",
    "        L.append((i,j))\n",
    "print(f\"Liste des cellules : \\n{L}\")"
   ]
  },
  {
   "cell_type": "markdown",
   "id": "b8c88ead",
   "metadata": {},
   "source": [
    "# 4 Manipulation de labyrinthes"
   ]
  },
  {
   "cell_type": "code",
   "execution_count": 230,
   "id": "4c77f50d",
   "metadata": {
    "ExecuteTime": {
     "end_time": "2024-03-13T21:52:47.499930Z",
     "start_time": "2024-03-13T21:52:47.495166Z"
    }
   },
   "outputs": [
    {
     "name": "stdout",
     "output_type": "stream",
     "text": [
      "┏━━━┳━━━┳━━━┳━━━┳━━━┓\n",
      "┃   ┃   ┃   ┃   ┃   ┃\n",
      "┣━━━╋━━━╋━━━╋━━━╋━━━┫\n",
      "┃   ┃   ┃   ┃   ┃   ┃\n",
      "┣━━━╋━━━╋━━━╋━━━╋━━━┫\n",
      "┃   ┃   ┃   ┃   ┃   ┃\n",
      "┣━━━╋━━━╋━━━╋━━━╋━━━┫\n",
      "┃   ┃   ┃   ┃   ┃   ┃\n",
      "┣━━━╋━━━╋━━━╋━━━╋━━━┫\n",
      "┃   ┃   ┃   ┃   ┃   ┃\n",
      "┗━━━┻━━━┻━━━┻━━━┻━━━┛\n"
     ]
    }
   ],
   "source": [
    "laby = Maze(5, 5)\n",
    "print(laby)"
   ]
  },
  {
   "cell_type": "code",
   "execution_count": 231,
   "id": "b9483814",
   "metadata": {
    "ExecuteTime": {
     "end_time": "2024-03-13T21:52:47.531867Z",
     "start_time": "2024-03-13T21:52:47.524885Z"
    }
   },
   "outputs": [
    {
     "name": "stdout",
     "output_type": "stream",
     "text": [
      "┏━━━┳━━━┳━━━┳━━━┳━━━┓\n",
      "┃                   ┃\n",
      "┣   ╋   ╋   ╋   ╋   ┫\n",
      "┃                   ┃\n",
      "┣   ╋   ╋   ╋   ╋   ┫\n",
      "┃                   ┃\n",
      "┣   ╋   ╋   ╋   ╋   ┫\n",
      "┃                   ┃\n",
      "┣   ╋   ╋   ╋   ╋   ┫\n",
      "┃                   ┃\n",
      "┗━━━┻━━━┻━━━┻━━━┻━━━┛\n"
     ]
    }
   ],
   "source": [
    "laby = Maze(5, 5)\n",
    "laby.empty()\n",
    "print(laby)"
   ]
  },
  {
   "cell_type": "code",
   "outputs": [
    {
     "name": "stdout",
     "output_type": "stream",
     "text": [
      "┏━━━┳━━━┳━━━┳━━━┳━━━┓\n",
      "┃   ┃   ┃   ┃   ┃   ┃\n",
      "┣━━━╋━━━╋━━━╋━━━╋━━━┫\n",
      "┃   ┃   ┃   ┃   ┃   ┃\n",
      "┣━━━╋━━━╋━━━╋━━━╋━━━┫\n",
      "┃   ┃   ┃   ┃   ┃   ┃\n",
      "┣━━━╋━━━╋━━━╋━━━╋━━━┫\n",
      "┃   ┃   ┃   ┃   ┃   ┃\n",
      "┣━━━╋━━━╋━━━╋━━━╋━━━┫\n",
      "┃   ┃   ┃   ┃   ┃   ┃\n",
      "┗━━━┻━━━┻━━━┻━━━┻━━━┛\n"
     ]
    }
   ],
   "source": [
    "laby.fill()\n",
    "print(laby)"
   ],
   "metadata": {
    "collapsed": false,
    "ExecuteTime": {
     "end_time": "2024-03-13T21:52:47.589807Z",
     "start_time": "2024-03-13T21:52:47.582895Z"
    }
   },
   "id": "6fb5acaff0d33803",
   "execution_count": 232
  },
  {
   "cell_type": "code",
   "outputs": [
    {
     "name": "stdout",
     "output_type": "stream",
     "text": [
      "┏━━━┳━━━┳━━━┳━━━┳━━━┓\n",
      "┃       ┃   ┃   ┃   ┃\n",
      "┣━━━╋━━━╋━━━╋━━━╋━━━┫\n",
      "┃   ┃   ┃   ┃   ┃   ┃\n",
      "┣━━━╋━━━╋━━━╋━━━╋━━━┫\n",
      "┃   ┃   ┃   ┃   ┃   ┃\n",
      "┣━━━╋━━━╋━━━╋━━━╋━━━┫\n",
      "┃   ┃   ┃   ┃   ┃   ┃\n",
      "┣━━━╋━━━╋━━━╋━━━╋━━━┫\n",
      "┃   ┃   ┃   ┃   ┃   ┃\n",
      "┗━━━┻━━━┻━━━┻━━━┻━━━┛\n"
     ]
    }
   ],
   "source": [
    "laby.remove_wall((0, 0), (0, 1))\n",
    "print(laby)"
   ],
   "metadata": {
    "collapsed": false,
    "ExecuteTime": {
     "end_time": "2024-03-13T21:52:47.618489Z",
     "start_time": "2024-03-13T21:52:47.612722Z"
    }
   },
   "id": "c71b15a8ec2d493e",
   "execution_count": 233
  },
  {
   "cell_type": "code",
   "execution_count": 234,
   "id": "8e7912e8",
   "metadata": {
    "ExecuteTime": {
     "end_time": "2024-03-13T21:52:47.662804Z",
     "start_time": "2024-03-13T21:52:47.656004Z"
    }
   },
   "outputs": [
    {
     "name": "stdout",
     "output_type": "stream",
     "text": [
      "┏━━━┳━━━┳━━━┳━━━┳━━━┓\n",
      "┃   ┃               ┃\n",
      "┣   ╋━━━╋   ╋   ╋   ┫\n",
      "┃                   ┃\n",
      "┣   ╋   ╋   ╋   ╋   ┫\n",
      "┃                   ┃\n",
      "┣   ╋   ╋   ╋   ╋   ┫\n",
      "┃                   ┃\n",
      "┣   ╋   ╋   ╋   ╋   ┫\n",
      "┃                   ┃\n",
      "┗━━━┻━━━┻━━━┻━━━┻━━━┛\n"
     ]
    }
   ],
   "source": [
    "laby.empty()\n",
    "laby.add_wall((0, 0), (0, 1))\n",
    "laby.add_wall((0, 1), (1, 1))\n",
    "print(laby)"
   ]
  },
  {
   "cell_type": "code",
   "outputs": [
    {
     "name": "stdout",
     "output_type": "stream",
     "text": [
      "[[(0, 0), (0, 1)], [(0, 1), (1, 1)]]\n"
     ]
    }
   ],
   "source": [
    "print(laby.get_walls())"
   ],
   "metadata": {
    "collapsed": false,
    "ExecuteTime": {
     "end_time": "2024-03-13T21:52:47.684364Z",
     "start_time": "2024-03-13T21:52:47.680198Z"
    }
   },
   "id": "383940f20f1be837",
   "execution_count": 235
  },
  {
   "cell_type": "code",
   "outputs": [
    {
     "name": "stdout",
     "output_type": "stream",
     "text": [
      "[(1, 1), (0, 0), (0, 2)]\n"
     ]
    }
   ],
   "source": [
    "print(laby.get_contiguous_cells((0,1)))"
   ],
   "metadata": {
    "collapsed": false,
    "ExecuteTime": {
     "end_time": "2024-03-13T21:52:47.734936Z",
     "start_time": "2024-03-13T21:52:47.729762Z"
    }
   },
   "id": "7d7e3392f1c01482",
   "execution_count": 236
  },
  {
   "cell_type": "code",
   "outputs": [
    {
     "name": "stdout",
     "output_type": "stream",
     "text": [
      "[(0, 2)]\n"
     ]
    }
   ],
   "source": [
    "print(laby.get_reachable_cells((0,1)))"
   ],
   "metadata": {
    "collapsed": false,
    "ExecuteTime": {
     "end_time": "2024-03-13T21:52:47.758987Z",
     "start_time": "2024-03-13T21:52:47.753936Z"
    }
   },
   "id": "70bf1086b29b9453",
   "execution_count": 237
  },
  {
   "cell_type": "markdown",
   "source": [
    "# 5 Génération"
   ],
   "metadata": {
    "collapsed": false
   },
   "id": "125a114b4c1a1cf6"
  },
  {
   "cell_type": "markdown",
   "source": [
    "## 5.1 Arbre binaire"
   ],
   "metadata": {
    "collapsed": false
   },
   "id": "20cc371148a48f59"
  },
  {
   "cell_type": "code",
   "outputs": [
    {
     "name": "stdout",
     "output_type": "stream",
     "text": [
      "i 0\n",
      "j 0\n",
      "j 1\n",
      "j 2\n",
      "j 3\n",
      "i 1\n",
      "j 0\n",
      "j 1\n",
      "j 2\n",
      "j 3\n",
      "i 2\n",
      "j 0\n",
      "j 1\n",
      "j 2\n",
      "j 3\n",
      "i 3\n",
      "j 0\n",
      "j 1\n",
      "j 2\n",
      "j 3\n",
      "┏━━━┳━━━┳━━━┳━━━┓\n",
      "┃   ┃   ┃   ┃   ┃\n",
      "┣   ╋   ╋   ╋   ┫\n",
      "┃           ┃   ┃\n",
      "┣━━━╋━━━╋   ╋   ┫\n",
      "┃   ┃   ┃   ┃   ┃\n",
      "┣   ╋   ╋   ╋   ┫\n",
      "┃               ┃\n",
      "┗━━━┻━━━┻━━━┻━━━┛\n"
     ]
    }
   ],
   "source": [
    "laby = Maze.gen_btree(4, 4)\n",
    "print(laby)"
   ],
   "metadata": {
    "collapsed": false,
    "ExecuteTime": {
     "end_time": "2024-03-13T21:52:47.829841Z",
     "start_time": "2024-03-13T21:52:47.824202Z"
    }
   },
   "id": "1ef3442a6ba2af27",
   "execution_count": 238
  },
  {
   "cell_type": "code",
   "outputs": [
    {
     "name": "stdout",
     "output_type": "stream",
     "text": [
      "i 0\n",
      "j 0\n",
      "j 1\n",
      "j 2\n",
      "i 1\n",
      "j 0\n",
      "j 1\n",
      "j 2\n",
      "i 2\n",
      "j 0\n",
      "j 1\n",
      "j 2\n",
      "┏━━━┳━━━┳━━━┳━━━┓\n",
      "┃   ┃           ┃\n",
      "┣   ╋   ╋━━━╋━━━┫\n",
      "┃   ┃   ┃   ┃   ┃\n",
      "┣   ╋   ╋   ╋   ┫\n",
      "┃   ┃       ┃   ┃\n",
      "┣   ╋   ╋━━━╋   ┫\n",
      "┃               ┃\n",
      "┗━━━┻━━━┻━━━┻━━━┛\n"
     ]
    }
   ],
   "source": [
    "laby = Maze.gen_sidewinder(4, 4)\n",
    "print(laby)"
   ],
   "metadata": {
    "collapsed": false,
    "ExecuteTime": {
     "end_time": "2024-03-13T21:52:47.851277Z",
     "start_time": "2024-03-13T21:52:47.845324Z"
    }
   },
   "id": "a19f8c8a6f4a892e",
   "execution_count": 239
  },
  {
   "cell_type": "code",
   "outputs": [
    {
     "name": "stdout",
     "output_type": "stream",
     "text": [
      "┏━━━┳━━━┳━━━┳━━━┳━━━┳━━━┳━━━┳━━━┳━━━┳━━━┳━━━┳━━━┳━━━┳━━━┳━━━┓\n",
      "┃       ┃       ┃       ┃               ┃                   ┃\n",
      "┣   ╋   ╋   ╋━━━╋━━━╋   ╋   ╋━━━╋━━━╋━━━╋━━━╋   ╋━━━╋━━━╋   ┫\n",
      "┃   ┃       ┃               ┃           ┃   ┃           ┃   ┃\n",
      "┣   ╋━━━╋   ╋   ╋━━━╋   ╋   ╋   ╋   ╋   ╋   ╋━━━╋   ╋━━━╋   ┫\n",
      "┃       ┃   ┃   ┃       ┃       ┃   ┃   ┃           ┃       ┃\n",
      "┣   ╋   ╋   ╋   ╋   ╋━━━╋━━━╋━━━╋   ╋━━━╋━━━╋   ╋━━━╋━━━╋━━━┫\n",
      "┃   ┃   ┃       ┃   ┃               ┃   ┃   ┃           ┃   ┃\n",
      "┣━━━╋━━━╋━━━╋━━━╋━━━╋━━━╋   ╋━━━╋   ╋   ╋   ╋   ╋━━━╋━━━╋   ┫\n",
      "┃                           ┃   ┃           ┃               ┃\n",
      "┣   ╋━━━╋   ╋━━━╋━━━╋   ╋━━━╋   ╋━━━╋━━━╋━━━╋   ╋   ╋━━━╋━━━┫\n",
      "┃   ┃   ┃   ┃                   ┃   ┃           ┃   ┃       ┃\n",
      "┣━━━╋   ╋━━━╋━━━╋━━━╋   ╋   ╋━━━╋   ╋   ╋   ╋━━━╋   ╋   ╋   ┫\n",
      "┃           ┃   ┃   ┃   ┃   ┃       ┃   ┃   ┃       ┃   ┃   ┃\n",
      "┣━━━╋   ╋   ╋   ╋   ╋   ╋   ╋   ╋━━━╋━━━╋━━━╋   ╋━━━╋   ╋━━━┫\n",
      "┃       ┃   ┃   ┃   ┃   ┃               ┃               ┃   ┃\n",
      "┣   ╋━━━╋━━━╋   ╋   ╋   ╋━━━╋   ╋━━━╋━━━╋━━━╋━━━╋   ╋━━━╋   ┫\n",
      "┃           ┃   ┃       ┃           ┃           ┃       ┃   ┃\n",
      "┣━━━╋━━━╋   ╋   ╋   ╋━━━╋━━━╋━━━╋   ╋   ╋   ╋   ╋   ╋   ╋   ┫\n",
      "┃   ┃   ┃       ┃   ┃   ┃   ┃           ┃   ┃   ┃   ┃       ┃\n",
      "┣   ╋   ╋━━━╋   ╋   ╋   ╋   ╋   ╋━━━╋   ╋━━━╋   ╋   ╋━━━╋━━━┫\n",
      "┃               ┃           ┃   ┃   ┃   ┃                   ┃\n",
      "┣   ╋━━━╋   ╋   ╋━━━╋   ╋   ╋━━━╋   ╋   ╋   ╋━━━╋━━━╋━━━╋━━━┫\n",
      "┃   ┃       ┃           ┃   ┃       ┃   ┃   ┃   ┃   ┃       ┃\n",
      "┣━━━╋━━━╋   ╋━━━╋   ╋━━━╋   ╋   ╋━━━╋━━━╋   ╋   ╋   ╋   ╋   ┫\n",
      "┃   ┃   ┃   ┃       ┃   ┃   ┃           ┃               ┃   ┃\n",
      "┣   ╋   ╋━━━╋   ╋━━━╋   ╋   ╋━━━╋   ╋   ╋━━━╋   ╋   ╋━━━╋   ┫\n",
      "┃       ┃               ┃           ┃       ┃   ┃   ┃   ┃   ┃\n",
      "┣   ╋   ╋   ╋━━━╋━━━╋   ╋   ╋━━━╋   ╋━━━╋━━━╋━━━╋   ╋   ╋   ┫\n",
      "┃   ┃           ┃       ┃       ┃               ┃       ┃   ┃\n",
      "┗━━━┻━━━┻━━━┻━━━┻━━━┻━━━┻━━━┻━━━┻━━━┻━━━┻━━━┻━━━┻━━━┻━━━┻━━━┛\n"
     ]
    }
   ],
   "source": [
    "laby = Maze.gen_fusion(15,15)\n",
    "print(laby)"
   ],
   "metadata": {
    "collapsed": false,
    "ExecuteTime": {
     "end_time": "2024-03-13T21:52:47.997300Z",
     "start_time": "2024-03-13T21:52:47.925628Z"
    }
   },
   "id": "a87cf9f01aa012e2",
   "execution_count": 240
  }
 ],
 "metadata": {
  "kernelspec": {
   "display_name": "Python 3 (ipykernel)",
   "language": "python",
   "name": "python3"
  },
  "language_info": {
   "codemirror_mode": {
    "name": "ipython",
    "version": 3
   },
   "file_extension": ".py",
   "mimetype": "text/x-python",
   "name": "python",
   "nbconvert_exporter": "python",
   "pygments_lexer": "ipython3",
   "version": "3.8.10"
  }
 },
 "nbformat": 4,
 "nbformat_minor": 5
}
