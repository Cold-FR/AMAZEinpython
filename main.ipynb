{
 "cells": [
  {
   "cell_type": "markdown",
   "id": "97b451fb",
   "metadata": {},
   "source": [
    "# 3 Implémentation"
   ]
  },
  {
   "cell_type": "code",
   "execution_count": 2,
   "id": "3224a69af396bec5",
   "metadata": {
    "ExecuteTime": {
     "end_time": "2024-03-17T20:31:41.071732Z",
     "start_time": "2024-03-17T20:31:41.068095Z"
    }
   },
   "outputs": [],
   "source": [
    "import random as rd"
   ]
  },
  {
   "cell_type": "code",
   "execution_count": 3,
   "id": "4913b177",
   "metadata": {
    "ExecuteTime": {
     "end_time": "2024-03-17T20:31:41.477323Z",
     "start_time": "2024-03-17T20:31:41.337016Z"
    }
   },
   "outputs": [],
   "source": [
    "class Maze:\n",
    "    \"\"\"\n",
    "    Classe Labyrinthe\n",
    "    Représentation sous forme de graphe non-orienté\n",
    "    dont chaque sommet est une cellule (un tuple (l,c))\n",
    "    et dont la structure est représentée par un dictionnaire\n",
    "      - clés : sommets\n",
    "      - valeurs : ensemble des sommets voisins accessibles\n",
    "    \"\"\"\n",
    "    def __init__(self, height, width):\n",
    "        \"\"\"\n",
    "        Constructeur d'un labyrinthe de height cellules de haut \n",
    "        et de width cellules de large \n",
    "        Les voisinages sont initialisés à des ensembles vides\n",
    "        Remarque : dans le labyrinthe créé, chaque cellule est complètement emmurée\n",
    "        \"\"\"\n",
    "        self.height    = height\n",
    "        self.width     = width\n",
    "        self.neighbors = {(i,j): set() for i in range(height) for j in range (width)}\n",
    "\n",
    "    def info(self):\n",
    "        \"\"\"\n",
    "        **NE PAS MODIFIER CETTE MÉTHODE**\n",
    "        Affichage des attributs d'un objet 'Maze' (fonction utile pour deboguer)\n",
    "        Retour:\n",
    "            chaîne (string): description textuelle des attributs de l'objet\n",
    "        \"\"\"\n",
    "        txt = \"**Informations sur le labyrinthe**\\n\"\n",
    "        txt += f\"- Dimensions de la grille : {self.height} x {self.width}\\n\"\n",
    "        txt += \"- Voisinages :\\n\"\n",
    "        txt += str(self.neighbors)+\"\\n\"\n",
    "        valid = True\n",
    "        for c1 in {(i, j) for i in range(self.height) for j in range(self.width)}:\n",
    "            for c2 in self.neighbors[c1]:\n",
    "                if c1 not in self.neighbors[c2]:\n",
    "                    valid = False\n",
    "                    break\n",
    "            else:\n",
    "                continue\n",
    "            break\n",
    "        txt += \"- Structure cohérente\\n\" if valid else f\"- Structure incohérente : {c1} X {c2}\\n\"\n",
    "        return txt\n",
    "\n",
    "    def __str__(self):\n",
    "        \"\"\"\n",
    "        **NE PAS MODIFIER CETTE MÉTHODE**\n",
    "        Représentation textuelle d'un objet Maze (en utilisant des caractères ascii)\n",
    "        Retour:\n",
    "             chaîne (str) : chaîne de caractères représentant le labyrinthe\n",
    "        \"\"\"\n",
    "        txt = \"\"\n",
    "        # Première ligne\n",
    "        txt += \"┏\"\n",
    "        for j in range(self.width-1):\n",
    "            txt += \"━━━┳\"\n",
    "        txt += \"━━━┓\\n\"\n",
    "        txt += \"┃\"\n",
    "        for j in range(self.width-1):\n",
    "            txt += \"   ┃\" if (0,j+1) not in self.neighbors[(0,j)] else \"    \"\n",
    "        txt += \"   ┃\\n\"\n",
    "        # Lignes normales\n",
    "        for i in range(self.height-1):\n",
    "            txt += \"┣\"\n",
    "            for j in range(self.width-1):\n",
    "                txt += \"━━━╋\" if (i+1,j) not in self.neighbors[(i,j)] else \"   ╋\"\n",
    "            txt += \"━━━┫\\n\" if (i+1,self.width-1) not in self.neighbors[(i,self.width-1)] else \"   ┫\\n\"\n",
    "            txt += \"┃\"\n",
    "            for j in range(self.width):\n",
    "                txt += \"   ┃\" if (i+1,j+1) not in self.neighbors[(i+1,j)] else \"    \"\n",
    "            txt += \"\\n\"\n",
    "        # Bas du tableau\n",
    "        txt += \"┗\"\n",
    "        for i in range(self.width-1):\n",
    "            txt += \"━━━┻\"\n",
    "        txt += \"━━━┛\\n\"\n",
    "\n",
    "        return txt\n",
    "    \n",
    "    def add_wall(self, c1: tuple, c2: tuple) -> None:\n",
    "        \"\"\"\n",
    "        Ajout d'un mur entre les cellules c1 et c2\n",
    "        :param c1: tuple (l,c) des coordonnées de la première cellule\n",
    "        :param c2: tuple (l,c) des coordonnées de la seconde cellule\n",
    "        :return: None\n",
    "        \"\"\"\n",
    "        # On teste si les sommets sont bien dans le labyrinthe\n",
    "        assert 0 <= c1[0] < self.height and \\\n",
    "            0 <= c1[1] < self.width and \\\n",
    "            0 <= c2[0] < self.height and \\\n",
    "            0 <= c2[1] < self.width, \\\n",
    "            f\"Erreur lors de l'ajout d'un mur entre {c1} et {c2} : les coordonnées de sont pas compatibles avec les dimensions du labyrinthe\"\n",
    "        # Ajout du mur\n",
    "        if c2 in self.neighbors[c1]:      # Si c2 est dans les voisines de c1\n",
    "            self.neighbors[c1].remove(c2) # on le retire\n",
    "        if c1 in self.neighbors[c2]:      # Si c3 est dans les voisines de c2\n",
    "            self.neighbors[c2].remove(c1) # on le retire\n",
    "            \n",
    "    def remove_wall(self, c1: tuple, c2: tuple) -> None:\n",
    "        \"\"\"\n",
    "        Suppression d'un mur entre les cellules c1 et c2\n",
    "        :param c1: tuple (l,c) des coordonnées de la première cellule\n",
    "        :param c2: tuple (l,c) des coordonnées de la seconde cellule\n",
    "        :return: None\n",
    "        \"\"\"\n",
    "        # On teste si les sommets sont bien dans le labyrinthe\n",
    "        assert 0 <= c1[0] < self.height and \\\n",
    "            0 <= c1[1] < self.width and \\\n",
    "            0 <= c2[0] < self.height and \\\n",
    "            0 <= c2[1] < self.width, \\\n",
    "            f\"Erreur lors de la suppression d'un mur entre {c1} et {c2} : les coordonnées de sont pas compatibles avec les dimensions du labyrinthe\"\n",
    "        # Suppression du mur\n",
    "        if c2 not in self.neighbors[c1]:  # Si c2 n'est pas dans les voisines de c1\n",
    "            self.neighbors[c1].add(c2)    # on l'ajoute\n",
    "        if c1 not in self.neighbors[c2]:  # Si c3 n'est pas dans les voisines de c2\n",
    "            self.neighbors[c2].add(c1)    # on l'ajoute\n",
    "            \n",
    "    def get_walls(self) -> list:\n",
    "        \"\"\"\n",
    "        Renvoie la liste des murs du labyrinthe\n",
    "        :return: list[list[tuple]] : liste des murs du labyrinthe\n",
    "        \"\"\"\n",
    "        walls = []\n",
    "        for i in range(self.height):\n",
    "            for j in range(self.width):\n",
    "                if (i+1, j) not in self.neighbors[(i,j)] and i+1 < self.height:\n",
    "                    walls.append([(i,j), (i+1, j)])\n",
    "                if (i, j+1) not in self.neighbors[(i,j)] and j+1 < self.width:\n",
    "                    walls.append([(i,j), (i, j+1)])\n",
    "        return walls\n",
    "    \n",
    "    def fill(self) -> None:\n",
    "        \"\"\"\n",
    "        Remplissage complet du labyrinthe\n",
    "        :return: None\n",
    "        \"\"\"\n",
    "        for c1 in {(i, j) for i in range(self.height) for j in range(self.width)}:\n",
    "            for c2 in {(i, j) for i in range(self.height) for j in range(self.width)}:\n",
    "                if c1 != c2:\n",
    "                    self.add_wall(c1, c2)\n",
    "                    \n",
    "    def empty(self) -> None:\n",
    "        \"\"\"\n",
    "        Vidage complet du labyrinthe\n",
    "        :return: None\n",
    "        \"\"\"\n",
    "        for c1 in {(i, j) for i in range(self.height) for j in range(self.width)}:\n",
    "            for c2 in {(i, j) for i in range(self.height) for j in range(self.width)}:\n",
    "                if c1 != c2:\n",
    "                    self.remove_wall(c1, c2)\n",
    "                    \n",
    "    def get_contiguous_cells(self, c: tuple):\n",
    "        \"\"\"\n",
    "        Renvoie la liste des cellules contiguës à la cellule c\n",
    "        :param c: tuple (l,c) des coordonnées de la cellule\n",
    "        :return: list[tuple] : liste des cellules contiguës à c\n",
    "        \"\"\"\n",
    "        contiguous = []\n",
    "        \n",
    "        if c[0] > 0:\n",
    "            contiguous.append((c[0]-1, c[1]))\n",
    "        if c[0] < self.height-1:\n",
    "            contiguous.append((c[0]+1, c[1]))\n",
    "        if c[1] > 0:\n",
    "            contiguous.append((c[0], c[1]-1))\n",
    "        if c[1] < self.width-1:\n",
    "            contiguous.append((c[0], c[1]+1))\n",
    "        \n",
    "        return contiguous\n",
    "        \n",
    "    \n",
    "    def get_reachable_cells(self, c: tuple):\n",
    "        \"\"\"\n",
    "        Renvoie la liste des cellules accessibles depuis la cellule c\n",
    "        :param c: tuple (l,c) des coordonnées de la cellule\n",
    "        :return: list[tuple] : liste des cellules accessibles depuis c\n",
    "        \"\"\"\n",
    "        reachable = []\n",
    "        for cell in self.get_contiguous_cells(c):\n",
    "            if cell in self.neighbors[c]:\n",
    "                reachable.append(cell)\n",
    "                \n",
    "        return reachable\n",
    "    \n",
    "    @classmethod\n",
    "    def gen_btree(cls, h: int, w: int) -> 'Maze':\n",
    "        \"\"\"\n",
    "        Génération d'un labyrinthe de dimensions height x width\n",
    "        selon la méthode de l'arbre binaire\n",
    "        :param h: int : hauteur du labyrinthe\n",
    "        :param w: int : largeur du labyrinthe\n",
    "        :return: Maze : labyrinthe généré\n",
    "        \"\"\"\n",
    "        laby = cls(h, w)\n",
    "        laby.fill()\n",
    "        \n",
    "        for i in range(h):\n",
    "            print('i', i)\n",
    "            for j in range(w):\n",
    "                print('j', j)\n",
    "                cell = (i, j)\n",
    "                if i < h-1 and j < w-1:\n",
    "                    if (i+1, j) not in laby.neighbors[cell] and (i, j+1) not in laby.neighbors[cell]:\n",
    "                        laby.remove_wall(cell, (i+1, j) if rd.choice([True, False]) else (i, j+1))\n",
    "                elif i < h-1:\n",
    "                    if (i+1, j) not in laby.neighbors[cell]:\n",
    "                        laby.remove_wall(cell, (i+1, j))\n",
    "                elif j < w-1:\n",
    "                    if (i, j+1) not in laby.neighbors[cell]:\n",
    "                        laby.remove_wall(cell, (i, j+1))\n",
    "                        \n",
    "        return laby\n",
    "    \n",
    "    @classmethod\n",
    "    def gen_sidewinder(cls, h: int, w: int) -> 'Maze':\n",
    "        \"\"\"\n",
    "        Génération d'un labyrinthe de dimensions height x width\n",
    "        selon la méthode du sidewinder\n",
    "        :param h: int : hauteur du labyrinthe\n",
    "        :param w: int : largeur du labyrinthe\n",
    "        :return: Maze : labyrinthe généré\n",
    "        \"\"\"\n",
    "        laby = cls(h, w)\n",
    "        laby.fill()\n",
    "        \n",
    "        for i in range(h - 1):\n",
    "            print('i', i)\n",
    "            sequence = []\n",
    "            for j in range(w - 1):\n",
    "                print('j', j)\n",
    "                cell = (i, j)\n",
    "                sequence.append(cell)\n",
    "                if rd.choice([True, False]):\n",
    "                    laby.remove_wall(cell, (i, j + 1))\n",
    "                else:\n",
    "                    random_cell = rd.choice(sequence)\n",
    "                    laby.remove_wall(random_cell, (random_cell[0] + 1, random_cell[1]))\n",
    "                    sequence = []\n",
    "            sequence.append((i, w - 1))\n",
    "            random_cell = rd.choice(sequence)\n",
    "            laby.remove_wall(random_cell, (random_cell[0] + 1, random_cell[1]))\n",
    "        \n",
    "        for j in range(w - 1):\n",
    "            cell = (h - 1, j)\n",
    "            laby.remove_wall(cell, (h - 1, j + 1))\n",
    "                    \n",
    "        return laby\n",
    "    \n",
    "    @classmethod\n",
    "    def gen_fusion(cls, h: int, w: int) -> 'Maze':\n",
    "        \"\"\"\n",
    "        Génération d'un labyrinthe de dimensions height x width\n",
    "        selon la méthode de la fusion de chemin\n",
    "        :param h: int : hauteur du labyrinthe\n",
    "        :param w: int : largeur du labyrinthe\n",
    "        :return: Maze : labyrinthe généré\n",
    "        \"\"\"\n",
    "        laby = cls(h, w)\n",
    "        laby.fill()\n",
    "        labels = {cell: i for i, cell in enumerate(laby.neighbors)}\n",
    "        walls = laby.get_walls()\n",
    "        rd.shuffle(walls)\n",
    "        \n",
    "        for wall in walls:\n",
    "            c1, c2 = wall\n",
    "            if labels[c1] != labels[c2]:\n",
    "                laby.remove_wall(c1, c2)\n",
    "                label1, label2 = labels[c1], labels[c2]\n",
    "                for cell in labels:\n",
    "                    if labels[cell] == label2:\n",
    "                        labels[cell] = label1\n",
    "                \n",
    "        return laby\n",
    "    \n",
    "    @classmethod\n",
    "    def gen_exploration(cls, h: int, w: int) -> 'Maze':\n",
    "        \"\"\"\n",
    "        Génération d'un labyrinthe de dimensions height x width\n",
    "        selon la méthode de l'exploration exhaustive\n",
    "        :param h: int : hauteur du labyrinthe\n",
    "        :param w: int : largeur du labyrinthe\n",
    "        :return: Maze : labyrinthe généré\n",
    "        \"\"\"\n",
    "        laby = cls(h, w)\n",
    "        laby.fill()\n",
    "        cell = (rd.randint(0, h-1), rd.randint(0, w-1))\n",
    "        visited = [cell]\n",
    "        stack = [cell]\n",
    "        \n",
    "        while len(stack) != 0:\n",
    "            cell = stack.pop()\n",
    "            contiguous = laby.get_contiguous_cells(cell)\n",
    "            unvisited = [c for c in contiguous if c not in visited]\n",
    "            if len(unvisited) != 0:\n",
    "                stack.append(cell)\n",
    "                next_cell = rd.choice(unvisited)\n",
    "                laby.remove_wall(cell, next_cell)\n",
    "                visited.append(next_cell)\n",
    "                stack.append(next_cell)\n",
    "                \n",
    "        return laby\n",
    "    \n",
    "    @classmethod\n",
    "    def gen_wilson(cls, h: int, w: int) -> 'Maze':\n",
    "        \"\"\"\n",
    "        Génération d'un labyrinthe de dimensions height x width selon la méthode de Wilson\n",
    "        :param h: int : hauteur du labyrinthe\n",
    "        :param w: int : largeur du labyrinthe\n",
    "        :return: Maze : labyrinthe généré\n",
    "        \"\"\"\n",
    "        \"\"\"\n",
    "        Génération d'un labyrinthe de dimensions height x width\n",
    "        selon la méthode de Wilson\n",
    "        :param h: int : hauteur du labyrinthe\n",
    "        :param w: int : largeur du labyrinthe\n",
    "        :return: Maze : labyrinthe généré\n",
    "        \"\"\"\n",
    "        laby = cls(h, w)\n",
    "        laby.fill()\n",
    "        unvisited = [(i, j) for i in range(h) for j in range(w)]\n",
    "        cell = rd.choice(unvisited)\n",
    "        unvisited.remove(cell)\n",
    "        \n",
    "        while len(unvisited) != 0:\n",
    "            cell = rd.choice(unvisited)\n",
    "            path = [cell]\n",
    "            while cell in unvisited:\n",
    "                cell = rd.choice(laby.get_contiguous_cells(cell))\n",
    "                if cell in path:\n",
    "                    path = path[:path.index(cell)+1]\n",
    "                else:\n",
    "                    path.append(cell)\n",
    "            for i in range(len(path)-1):\n",
    "                laby.remove_wall(path[i], path[i+1])\n",
    "                unvisited.remove(path[i])\n",
    "                \n",
    "        return laby\n",
    "    \n",
    "    def overlay(self, content=None):\n",
    "        \"\"\"\n",
    "        Rendu en mode texte, sur la sortie standard, \\\n",
    "        d'un labyrinthe avec du contenu dans les cellules\n",
    "        Argument:\n",
    "            content (dict) : dictionnaire tq content[cell] contient le caractère à afficher au milieu de la cellule\n",
    "        Retour:\n",
    "            string\n",
    "        \"\"\"\n",
    "        if content is None:\n",
    "            content = {(i,j):' ' for i in range(self.height) for j in range(self.width)}\n",
    "        else:\n",
    "            # Python >=3.9\n",
    "            #content = content | {(i, j): ' ' for i in range(\n",
    "            #    self.height) for j in range(self.width) if (i,j) not in content}\n",
    "            # Python <3.9\n",
    "            new_content = {(i, j): ' ' for i in range(self.height) for j in range(self.width) if (i,j) not in content}\n",
    "            content = {**content, **new_content}\n",
    "        txt = r\"\"\n",
    "        # Première ligne\n",
    "        txt += \"┏\"\n",
    "        for j in range(self.width-1):\n",
    "            txt += \"━━━┳\"\n",
    "        txt += \"━━━┓\\n\"\n",
    "        txt += \"┃\"\n",
    "        for j in range(self.width-1):\n",
    "            txt += \" \"+content[(0,j)]+\" ┃\" if (0,j+1) not in self.neighbors[(0,j)] else \" \"+content[(0,j)]+\"  \"\n",
    "        txt += \" \"+content[(0,self.width-1)]+\" ┃\\n\"\n",
    "        # Lignes normales\n",
    "        for i in range(self.height-1):\n",
    "            txt += \"┣\"\n",
    "            for j in range(self.width-1):\n",
    "                txt += \"━━━╋\" if (i+1,j) not in self.neighbors[(i,j)] else \"   ╋\"\n",
    "            txt += \"━━━┫\\n\" if (i+1,self.width-1) not in self.neighbors[(i,self.width-1)] else \"   ┫\\n\"\n",
    "            txt += \"┃\"\n",
    "            for j in range(self.width):\n",
    "                txt += \" \"+content[(i+1,j)]+\" ┃\" if (i+1,j+1) not in self.neighbors[(i+1,j)] else \" \"+content[(i+1,j)]+\"  \"\n",
    "            txt += \"\\n\"\n",
    "        # Bas du tableau\n",
    "        txt += \"┗\"\n",
    "        for i in range(self.width-1):\n",
    "            txt += \"━━━┻\"\n",
    "        txt += \"━━━┛\\n\"\n",
    "        return txt\n",
    "    \n",
    "    def solve_dfs(self, start, stop):\n",
    "        \"\"\"\n",
    "        Résolution du labyrinthe par la méthode de la recherche en profondeur\n",
    "        :param start: tuple : Cellule de départ\n",
    "        :param stop: tuple : Cellule d'arrivée\n",
    "        :return: list[tuple] : Chemin de la cellule de départ à la cellule d'arrivée\n",
    "        \"\"\"\n",
    "        stack = [start]\n",
    "        unvisited = [(i, j) for i in range(self.height) for j in range(self.width)]\n",
    "        unvisited.remove(start)\n",
    "        pred = {start: start}\n",
    "        finish = False\n",
    "        \n",
    "        while len(unvisited) != 0 and not finish:\n",
    "            c = stack.pop()\n",
    "            if c == stop:\n",
    "                finish = True\n",
    "            else:\n",
    "                for neighbor in self.get_reachable_cells(c):\n",
    "                    if neighbor in unvisited:\n",
    "                        unvisited.remove(neighbor)\n",
    "                        stack.append(neighbor)\n",
    "                        pred[neighbor] = c\n",
    "                        \n",
    "        path = []\n",
    "        c = stop\n",
    "        while c != start:\n",
    "            path.append(c)\n",
    "            c = pred[c]\n",
    "        path.append(start)\n",
    "        \n",
    "        return path\n",
    "    \n",
    "    def solve_bfs(self, start, stop):\n",
    "        \"\"\"\n",
    "        Résolution du labyrinthe par la méthode de la recherche en largeur\n",
    "        :param start: tuple : Cellule de départ\n",
    "        :param stop: tuple : Cellule d'arrivée\n",
    "        :return: list[tuple] : Chemin de la cellule de départ à la cellule d'arrivée\n",
    "        \"\"\"\n",
    "        queue = [start]\n",
    "        unvisited = [(i, j) for i in range(self.height) for j in range(self.width)]\n",
    "        unvisited.remove(start)\n",
    "        pred = {start: start}\n",
    "        finish = False\n",
    "        \n",
    "        while len(unvisited) != 0 and not finish:\n",
    "            c = queue.pop(0)\n",
    "            if c == stop:\n",
    "                finish = True\n",
    "            else:\n",
    "                for neighbor in self.get_reachable_cells(c):\n",
    "                    if neighbor in unvisited:\n",
    "                        unvisited.remove(neighbor)\n",
    "                        queue.append(neighbor)\n",
    "                        pred[neighbor] = c\n",
    "                        \n",
    "        path = []\n",
    "        c = stop\n",
    "        while c != start:\n",
    "            path.append(c)\n",
    "            c = pred[c]\n",
    "        path.append(start)\n",
    "        \n",
    "        return path\n",
    "    \n",
    "    def solve_rhr(self, start, stop):\n",
    "        \"\"\"\n",
    "        Résolution du labyrinthe par la méthode de la main droite\n",
    "        :param start: tuple : Cellule de départ\n",
    "        :param stop: tuple : Cellule d'arrivée\n",
    "        :return: list[tuple] : Chemin de la cellule de départ à la cellule d'arrivée\n",
    "        \"\"\"\n",
    "        finish = False\n",
    "        path = [start]\n",
    "        \n",
    "        direction = None\n",
    "        neighbors = self.get_reachable_cells(start)\n",
    "        if neighbors[0][0] == start[0] + 1:\n",
    "            direction = 'S'\n",
    "        elif neighbors[0][0] == start[0] - 1:\n",
    "            direction = 'N'\n",
    "        elif neighbors[0][1] == start[1] + 1:\n",
    "            direction = 'E'\n",
    "        elif neighbors[0][1] == start[1] - 1:\n",
    "            direction = 'O'\n",
    "        \n",
    "        while not finish:\n",
    "            c = path[-1]\n",
    "            if c == stop:\n",
    "                finish = True\n",
    "            else:\n",
    "                neighbors = self.get_reachable_cells(c)\n",
    "                if direction == 'N':\n",
    "                    if (c[0], c[1]+1) in neighbors:\n",
    "                        path.append((c[0], c[1]+1))\n",
    "                        direction = 'E'\n",
    "                    elif (c[0]-1, c[1]) in neighbors:\n",
    "                        path.append((c[0]-1, c[1]))\n",
    "                    else:\n",
    "                        direction = 'O'\n",
    "                elif direction == 'S':\n",
    "                    if (c[0], c[1]-1) in neighbors:\n",
    "                        path.append((c[0], c[1]-1))\n",
    "                        direction = 'O'\n",
    "                    elif (c[0]+1, c[1]) in neighbors:\n",
    "                        path.append((c[0]+1, c[1]))\n",
    "                    else:\n",
    "                        direction = 'E'\n",
    "                elif direction == 'E':\n",
    "                    if (c[0]+1, c[1]) in neighbors:\n",
    "                        path.append((c[0]+1, c[1]))\n",
    "                        direction = 'S'\n",
    "                    elif (c[0], c[1]+1) in neighbors:\n",
    "                        path.append((c[0], c[1]+1))\n",
    "                    else:\n",
    "                        direction = 'N'\n",
    "                elif direction == 'O':\n",
    "                    if (c[0]-1, c[1]) in neighbors:\n",
    "                        path.append((c[0]-1, c[1]))\n",
    "                        direction = 'N'\n",
    "                    elif (c[0], c[1]-1) in neighbors:\n",
    "                        path.append((c[0], c[1]-1))\n",
    "                    else:\n",
    "                        direction = 'S'\n",
    "                             \n",
    "        return path\n",
    "    \n",
    "    def distance_geo(self, c1, c2):\n",
    "        \"\"\"\n",
    "        Calcul de la distance géodésique entre deux cellules\n",
    "        :param c1: tuple : Coordonnées de la première cellule\n",
    "        :param c2: tuple : Coordonnées de la seconde cellule\n",
    "        :return: float : Distance géodésique entre c1 et c2\n",
    "        \"\"\"\n",
    "        path = self.solve_bfs(c1, c2)\n",
    "        return len(path) - 1\n",
    "    \n",
    "    def distance_man(self, c1, c2):\n",
    "        \"\"\"\n",
    "        Calcul de la distance de Manhattan entre deux cellules\n",
    "        :param c1: tuple : Coordonnées de la première cellule\n",
    "        :param c2: tuple : Coordonnées de la seconde cellule\n",
    "        :return: int : Distance de Manhattan entre c1 et c2\n",
    "        \"\"\"\n",
    "        return abs(c1[0] - c2[0]) + abs(c1[1] - c2[1])\n",
    "    \n",
    "    def worst_path_len(self, start):\n",
    "        \"\"\"\n",
    "        Calcul de la longueur du plus long chemin menant du départ à une impasse (une feuille)\n",
    "        :param start: tuple : Coordonnées de la cellule de départ\n",
    "        :return: int : Longueur du plus long chemin dans le labyrinthe\n",
    "        \"\"\"\n",
    "        path_len = 0\n",
    "        for cell in self.neighbors:\n",
    "            if len(self.neighbors[cell]) == 1:\n",
    "                path = self.solve_bfs(start, cell)\n",
    "                if len(path) > path_len:\n",
    "                    path_len = len(path)\n",
    "        return path_len\n",
    "    \n",
    "    def dead_end_number(self):\n",
    "        \"\"\"\n",
    "        Calcul du nombre de culs-de-sac dans le labyrinthe\n",
    "        :return: int : Nombre de culs-de-sac dans le labyrinthe\n",
    "        \"\"\"\n",
    "        dead_ends = 0\n",
    "        for cell in self.neighbors:\n",
    "            if len(self.neighbors[cell]) == 1:\n",
    "                dead_ends += 1\n",
    "        return dead_ends\n",
    "    "
   ]
  },
  {
   "cell_type": "code",
   "execution_count": 4,
   "id": "d0cb7487",
   "metadata": {
    "ExecuteTime": {
     "end_time": "2024-03-17T20:31:41.488892Z",
     "start_time": "2024-03-17T20:31:41.480670Z"
    }
   },
   "outputs": [
    {
     "name": "stdout",
     "output_type": "stream",
     "text": [
      "**Informations sur le labyrinthe**\n",
      "- Dimensions de la grille : 4 x 4\n",
      "- Voisinages :\n",
      "{(0, 0): set(), (0, 1): set(), (0, 2): set(), (0, 3): set(), (1, 0): set(), (1, 1): set(), (1, 2): set(), (1, 3): set(), (2, 0): set(), (2, 1): set(), (2, 2): set(), (2, 3): set(), (3, 0): set(), (3, 1): set(), (3, 2): set(), (3, 3): set()}\n",
      "- Structure cohérente\n"
     ]
    }
   ],
   "source": [
    "laby = Maze(4, 4)\n",
    "print(laby.info())"
   ]
  },
  {
   "cell_type": "code",
   "execution_count": 5,
   "id": "0a27ff12",
   "metadata": {
    "ExecuteTime": {
     "end_time": "2024-03-17T20:31:41.498722Z",
     "start_time": "2024-03-17T20:31:41.492181Z"
    }
   },
   "outputs": [
    {
     "name": "stdout",
     "output_type": "stream",
     "text": [
      "┏━━━┳━━━┳━━━┳━━━┓\n",
      "┃   ┃   ┃   ┃   ┃\n",
      "┣━━━╋━━━╋━━━╋━━━┫\n",
      "┃   ┃   ┃   ┃   ┃\n",
      "┣━━━╋━━━╋━━━╋━━━┫\n",
      "┃   ┃   ┃   ┃   ┃\n",
      "┣━━━╋━━━╋━━━╋━━━┫\n",
      "┃   ┃   ┃   ┃   ┃\n",
      "┗━━━┻━━━┻━━━┻━━━┛\n"
     ]
    }
   ],
   "source": [
    "print(laby)"
   ]
  },
  {
   "cell_type": "code",
   "execution_count": 6,
   "id": "e5ec0ef8",
   "metadata": {
    "ExecuteTime": {
     "end_time": "2024-03-17T20:31:41.529467Z",
     "start_time": "2024-03-17T20:31:41.518410Z"
    }
   },
   "outputs": [
    {
     "name": "stdout",
     "output_type": "stream",
     "text": [
      "┏━━━┳━━━┳━━━┳━━━┓\n",
      "┃   ┃           ┃\n",
      "┣   ╋   ╋━━━╋   ┫\n",
      "┃   ┃       ┃   ┃\n",
      "┣   ╋━━━╋   ╋   ┫\n",
      "┃           ┃   ┃\n",
      "┣   ╋━━━╋━━━╋   ┫\n",
      "┃           ┃   ┃\n",
      "┗━━━┻━━━┻━━━┻━━━┛\n"
     ]
    }
   ],
   "source": [
    "laby.neighbors = {\n",
    "    (0, 0): {(1, 0)},\n",
    "    (0, 1): {(0, 2), (1, 1)},\n",
    "    (0, 2): {(0, 1), (0, 3)},\n",
    "    (0, 3): {(0, 2), (1, 3)},\n",
    "    (1, 0): {(2, 0), (0, 0)},\n",
    "    (1, 1): {(0, 1), (1, 2)},\n",
    "    (1, 2): {(1, 1), (2, 2)},\n",
    "    (1, 3): {(2, 3), (0, 3)},\n",
    "    (2, 0): {(1, 0), (2, 1), (3, 0)},\n",
    "    (2, 1): {(2, 0), (2, 2)},\n",
    "    (2, 2): {(1, 2), (2, 1)},\n",
    "    (2, 3): {(3, 3), (1, 3)},\n",
    "    (3, 0): {(3, 1), (2, 0)},\n",
    "    (3, 1): {(3, 2), (3, 0)},\n",
    "    (3, 2): {(3, 1)},\n",
    "    (3, 3): {(2, 3)}\n",
    "}\n",
    "\n",
    "print(laby)"
   ]
  },
  {
   "cell_type": "code",
   "execution_count": 7,
   "id": "e5533653",
   "metadata": {
    "ExecuteTime": {
     "end_time": "2024-03-17T20:31:41.628226Z",
     "start_time": "2024-03-17T20:31:41.619136Z"
    }
   },
   "outputs": [
    {
     "name": "stdout",
     "output_type": "stream",
     "text": [
      "┏━━━┳━━━┳━━━┳━━━┓\n",
      "┃   ┃           ┃\n",
      "┣   ╋   ╋━━━╋   ┫\n",
      "┃   ┃       ┃   ┃\n",
      "┣   ╋━━━╋   ╋━━━┫\n",
      "┃           ┃   ┃\n",
      "┣   ╋━━━╋━━━╋   ┫\n",
      "┃           ┃   ┃\n",
      "┗━━━┻━━━┻━━━┻━━━┛\n"
     ]
    }
   ],
   "source": [
    "laby.neighbors[(1,3)].remove((2,3))\n",
    "laby.neighbors[(2,3)].remove((1,3))\n",
    "print(laby)"
   ]
  },
  {
   "cell_type": "code",
   "execution_count": 8,
   "id": "d5b8576c",
   "metadata": {
    "ExecuteTime": {
     "end_time": "2024-03-17T20:31:41.722075Z",
     "start_time": "2024-03-17T20:31:41.715297Z"
    }
   },
   "outputs": [
    {
     "name": "stdout",
     "output_type": "stream",
     "text": [
      "┏━━━┳━━━┳━━━┳━━━┓\n",
      "┃   ┃           ┃\n",
      "┣   ╋   ╋━━━╋   ┫\n",
      "┃   ┃       ┃   ┃\n",
      "┣   ╋━━━╋   ╋   ┫\n",
      "┃           ┃   ┃\n",
      "┣   ╋━━━╋━━━╋   ┫\n",
      "┃           ┃   ┃\n",
      "┗━━━┻━━━┻━━━┻━━━┛\n"
     ]
    }
   ],
   "source": [
    "laby.neighbors[(1, 3)].add((2, 3))\n",
    "laby.neighbors[(2, 3)].add((1, 3))\n",
    "print(laby)"
   ]
  },
  {
   "cell_type": "code",
   "execution_count": 9,
   "id": "51453914",
   "metadata": {
    "ExecuteTime": {
     "end_time": "2024-03-17T20:31:41.825043Z",
     "start_time": "2024-03-17T20:31:41.820524Z"
    }
   },
   "outputs": [
    {
     "name": "stdout",
     "output_type": "stream",
     "text": [
      "┏━━━┳━━━┳━━━┳━━━┓\n",
      "┃   ┃           ┃\n",
      "┣   ╋   ╋━━━╋   ┫\n",
      "┃   ┃       ┃   ┃\n",
      "┣   ╋━━━╋   ╋━━━┫\n",
      "┃           ┃   ┃\n",
      "┣   ╋━━━╋━━━╋   ┫\n",
      "┃           ┃   ┃\n",
      "┗━━━┻━━━┻━━━┻━━━┛\n",
      "\n",
      "**Informations sur le labyrinthe**\n",
      "- Dimensions de la grille : 4 x 4\n",
      "- Voisinages :\n",
      "{(0, 0): {(1, 0)}, (0, 1): {(1, 1), (0, 2)}, (0, 2): {(0, 1), (0, 3)}, (0, 3): {(0, 2), (1, 3)}, (1, 0): {(2, 0), (0, 0)}, (1, 1): {(0, 1), (1, 2)}, (1, 2): {(1, 1), (2, 2)}, (1, 3): {(0, 3)}, (2, 0): {(1, 0), (2, 1), (3, 0)}, (2, 1): {(2, 0), (2, 2)}, (2, 2): {(1, 2), (2, 1)}, (2, 3): {(3, 3), (1, 3)}, (3, 0): {(3, 1), (2, 0)}, (3, 1): {(3, 2), (3, 0)}, (3, 2): {(3, 1)}, (3, 3): {(2, 3)}}\n",
      "- Structure incohérente : (2, 3) X (1, 3)\n"
     ]
    }
   ],
   "source": [
    "laby.neighbors[(1, 3)].remove((2, 3))\n",
    "print(laby)\n",
    "print(laby.info())"
   ]
  },
  {
   "cell_type": "code",
   "execution_count": 10,
   "id": "8a7a490d",
   "metadata": {
    "ExecuteTime": {
     "end_time": "2024-03-17T20:31:41.876656Z",
     "start_time": "2024-03-17T20:31:41.872217Z"
    }
   },
   "outputs": [],
   "source": [
    "laby.neighbors[(2, 3)].remove((1,3))"
   ]
  },
  {
   "cell_type": "code",
   "execution_count": 11,
   "id": "98548c2a",
   "metadata": {
    "ExecuteTime": {
     "end_time": "2024-03-17T20:31:41.969501Z",
     "start_time": "2024-03-17T20:31:41.963398Z"
    }
   },
   "outputs": [
    {
     "name": "stdout",
     "output_type": "stream",
     "text": [
      "Il y a un mur entre (1, 3) et (2, 3) car (1, 3) n'est pas dans le voisinage de (2, 3) et (2, 3) n'est pas dans le voisinage de (1, 3)\n"
     ]
    }
   ],
   "source": [
    "c1 = (1, 3)\n",
    "c2 = (2, 3)\n",
    "if c1 in laby.neighbors[c2] and c2 in laby.neighbors[c1]:\n",
    "    print(f\"Il n'y a pas de mur entre {c1} et {c2} car elles sont mutuellement voisines\")\n",
    "elif c1 not in laby.neighbors[c2] and c2 not in laby.neighbors[c1]:\n",
    "    print(f\"Il y a un mur entre {c1} et {c2} car {c1} n'est pas dans le voisinage de {c2} et {c2} n'est pas dans le voisinage de {c1}\")\n",
    "else:\n",
    "    print(f\"Il y a une incohérence de réciprocité des voisinages de {c1} et {c2}\")"
   ]
  },
  {
   "cell_type": "code",
   "execution_count": 12,
   "id": "75f360f6",
   "metadata": {
    "ExecuteTime": {
     "end_time": "2024-03-17T20:31:42.018304Z",
     "start_time": "2024-03-17T20:31:42.012319Z"
    }
   },
   "outputs": [
    {
     "name": "stdout",
     "output_type": "stream",
     "text": [
      "(1, 3) n'est pas accessible depuis (2, 3) et vice-versa\n"
     ]
    }
   ],
   "source": [
    "c1 = (1, 3)\n",
    "c2 = (2, 3)\n",
    "if c1 in laby.neighbors[c2] and c2 in laby.neighbors[c1]:\n",
    "    print(f\"{c1} est accessible depuis {c2} et vice-versa\")\n",
    "elif c1 not in laby.neighbors[c2] and c2 not in laby.neighbors[c1]:\n",
    "    print(f\"{c1} n'est pas accessible depuis {c2} et vice-versa\")\n",
    "else:\n",
    "    print(f\"Il y a une incohérence de réciprocité des voisinages de {c1} et {c2}\")"
   ]
  },
  {
   "cell_type": "code",
   "execution_count": 13,
   "id": "f4fa14e0",
   "metadata": {
    "ExecuteTime": {
     "end_time": "2024-03-17T20:31:42.096565Z",
     "start_time": "2024-03-17T20:31:42.090358Z"
    }
   },
   "outputs": [
    {
     "name": "stdout",
     "output_type": "stream",
     "text": [
      "Liste des cellules : \n",
      "[(0, 0), (0, 1), (0, 2), (0, 3), (1, 0), (1, 1), (1, 2), (1, 3), (2, 0), (2, 1), (2, 2), (2, 3), (3, 0), (3, 1), (3, 2), (3, 3)]\n"
     ]
    }
   ],
   "source": [
    "L = []\n",
    "for i in range(laby.height):\n",
    "    for j in range(laby.width):\n",
    "        L.append((i,j))\n",
    "print(f\"Liste des cellules : \\n{L}\")"
   ]
  },
  {
   "cell_type": "markdown",
   "id": "b8c88ead",
   "metadata": {},
   "source": [
    "# 4 Manipulation de labyrinthes"
   ]
  },
  {
   "cell_type": "code",
   "execution_count": 14,
   "id": "4c77f50d",
   "metadata": {
    "ExecuteTime": {
     "end_time": "2024-03-17T20:31:42.135014Z",
     "start_time": "2024-03-17T20:31:42.130542Z"
    }
   },
   "outputs": [
    {
     "name": "stdout",
     "output_type": "stream",
     "text": [
      "┏━━━┳━━━┳━━━┳━━━┳━━━┓\n",
      "┃   ┃   ┃   ┃   ┃   ┃\n",
      "┣━━━╋━━━╋━━━╋━━━╋━━━┫\n",
      "┃   ┃   ┃   ┃   ┃   ┃\n",
      "┣━━━╋━━━╋━━━╋━━━╋━━━┫\n",
      "┃   ┃   ┃   ┃   ┃   ┃\n",
      "┣━━━╋━━━╋━━━╋━━━╋━━━┫\n",
      "┃   ┃   ┃   ┃   ┃   ┃\n",
      "┣━━━╋━━━╋━━━╋━━━╋━━━┫\n",
      "┃   ┃   ┃   ┃   ┃   ┃\n",
      "┗━━━┻━━━┻━━━┻━━━┻━━━┛\n"
     ]
    }
   ],
   "source": [
    "laby = Maze(5, 5)\n",
    "print(laby)"
   ]
  },
  {
   "cell_type": "code",
   "execution_count": 15,
   "id": "b9483814",
   "metadata": {
    "ExecuteTime": {
     "end_time": "2024-03-17T20:31:42.231132Z",
     "start_time": "2024-03-17T20:31:42.225307Z"
    }
   },
   "outputs": [
    {
     "name": "stdout",
     "output_type": "stream",
     "text": [
      "┏━━━┳━━━┳━━━┳━━━┳━━━┓\n",
      "┃                   ┃\n",
      "┣   ╋   ╋   ╋   ╋   ┫\n",
      "┃                   ┃\n",
      "┣   ╋   ╋   ╋   ╋   ┫\n",
      "┃                   ┃\n",
      "┣   ╋   ╋   ╋   ╋   ┫\n",
      "┃                   ┃\n",
      "┣   ╋   ╋   ╋   ╋   ┫\n",
      "┃                   ┃\n",
      "┗━━━┻━━━┻━━━┻━━━┻━━━┛\n"
     ]
    }
   ],
   "source": [
    "laby = Maze(5, 5)\n",
    "laby.empty()\n",
    "print(laby)"
   ]
  },
  {
   "cell_type": "code",
   "execution_count": 16,
   "id": "6fb5acaff0d33803",
   "metadata": {
    "ExecuteTime": {
     "end_time": "2024-03-17T20:31:42.268268Z",
     "start_time": "2024-03-17T20:31:42.262284Z"
    }
   },
   "outputs": [
    {
     "name": "stdout",
     "output_type": "stream",
     "text": [
      "┏━━━┳━━━┳━━━┳━━━┳━━━┓\n",
      "┃   ┃   ┃   ┃   ┃   ┃\n",
      "┣━━━╋━━━╋━━━╋━━━╋━━━┫\n",
      "┃   ┃   ┃   ┃   ┃   ┃\n",
      "┣━━━╋━━━╋━━━╋━━━╋━━━┫\n",
      "┃   ┃   ┃   ┃   ┃   ┃\n",
      "┣━━━╋━━━╋━━━╋━━━╋━━━┫\n",
      "┃   ┃   ┃   ┃   ┃   ┃\n",
      "┣━━━╋━━━╋━━━╋━━━╋━━━┫\n",
      "┃   ┃   ┃   ┃   ┃   ┃\n",
      "┗━━━┻━━━┻━━━┻━━━┻━━━┛\n"
     ]
    }
   ],
   "source": [
    "laby.fill()\n",
    "print(laby)"
   ]
  },
  {
   "cell_type": "code",
   "execution_count": 17,
   "id": "c71b15a8ec2d493e",
   "metadata": {
    "ExecuteTime": {
     "end_time": "2024-03-17T20:31:42.349658Z",
     "start_time": "2024-03-17T20:31:42.345014Z"
    }
   },
   "outputs": [
    {
     "name": "stdout",
     "output_type": "stream",
     "text": [
      "┏━━━┳━━━┳━━━┳━━━┳━━━┓\n",
      "┃       ┃   ┃   ┃   ┃\n",
      "┣━━━╋━━━╋━━━╋━━━╋━━━┫\n",
      "┃   ┃   ┃   ┃   ┃   ┃\n",
      "┣━━━╋━━━╋━━━╋━━━╋━━━┫\n",
      "┃   ┃   ┃   ┃   ┃   ┃\n",
      "┣━━━╋━━━╋━━━╋━━━╋━━━┫\n",
      "┃   ┃   ┃   ┃   ┃   ┃\n",
      "┣━━━╋━━━╋━━━╋━━━╋━━━┫\n",
      "┃   ┃   ┃   ┃   ┃   ┃\n",
      "┗━━━┻━━━┻━━━┻━━━┻━━━┛\n"
     ]
    }
   ],
   "source": [
    "laby.remove_wall((0, 0), (0, 1))\n",
    "print(laby)"
   ]
  },
  {
   "cell_type": "code",
   "execution_count": 18,
   "id": "8e7912e8",
   "metadata": {
    "ExecuteTime": {
     "end_time": "2024-03-17T20:31:42.396973Z",
     "start_time": "2024-03-17T20:31:42.389654Z"
    }
   },
   "outputs": [
    {
     "name": "stdout",
     "output_type": "stream",
     "text": [
      "┏━━━┳━━━┳━━━┳━━━┳━━━┓\n",
      "┃   ┃               ┃\n",
      "┣   ╋━━━╋   ╋   ╋   ┫\n",
      "┃                   ┃\n",
      "┣   ╋   ╋   ╋   ╋   ┫\n",
      "┃                   ┃\n",
      "┣   ╋   ╋   ╋   ╋   ┫\n",
      "┃                   ┃\n",
      "┣   ╋   ╋   ╋   ╋   ┫\n",
      "┃                   ┃\n",
      "┗━━━┻━━━┻━━━┻━━━┻━━━┛\n"
     ]
    }
   ],
   "source": [
    "laby.empty()\n",
    "laby.add_wall((0, 0), (0, 1))\n",
    "laby.add_wall((0, 1), (1, 1))\n",
    "print(laby)"
   ]
  },
  {
   "cell_type": "code",
   "execution_count": 19,
   "id": "383940f20f1be837",
   "metadata": {
    "ExecuteTime": {
     "end_time": "2024-03-17T20:31:42.534748Z",
     "start_time": "2024-03-17T20:31:42.530251Z"
    }
   },
   "outputs": [
    {
     "name": "stdout",
     "output_type": "stream",
     "text": [
      "[[(0, 0), (0, 1)], [(0, 1), (1, 1)]]\n"
     ]
    }
   ],
   "source": [
    "print(laby.get_walls())"
   ]
  },
  {
   "cell_type": "code",
   "execution_count": 20,
   "id": "7d7e3392f1c01482",
   "metadata": {
    "ExecuteTime": {
     "end_time": "2024-03-17T20:31:42.558802Z",
     "start_time": "2024-03-17T20:31:42.554767Z"
    }
   },
   "outputs": [
    {
     "name": "stdout",
     "output_type": "stream",
     "text": [
      "[(1, 1), (0, 0), (0, 2)]\n"
     ]
    }
   ],
   "source": [
    "print(laby.get_contiguous_cells((0,1)))"
   ]
  },
  {
   "cell_type": "code",
   "execution_count": 21,
   "id": "70bf1086b29b9453",
   "metadata": {
    "ExecuteTime": {
     "end_time": "2024-03-17T20:31:42.621406Z",
     "start_time": "2024-03-17T20:31:42.617115Z"
    }
   },
   "outputs": [
    {
     "name": "stdout",
     "output_type": "stream",
     "text": [
      "[(0, 2)]\n"
     ]
    }
   ],
   "source": [
    "print(laby.get_reachable_cells((0,1)))"
   ]
  },
  {
   "cell_type": "markdown",
   "id": "125a114b4c1a1cf6",
   "metadata": {},
   "source": [
    "# 5 Génération"
   ]
  },
  {
   "cell_type": "markdown",
   "id": "20cc371148a48f59",
   "metadata": {},
   "source": [
    "## 5.1 Arbre binaire"
   ]
  },
  {
   "cell_type": "code",
   "execution_count": 22,
   "id": "1ef3442a6ba2af27",
   "metadata": {
    "ExecuteTime": {
     "end_time": "2024-03-17T20:31:42.659422Z",
     "start_time": "2024-03-17T20:31:42.653890Z"
    }
   },
   "outputs": [
    {
     "name": "stdout",
     "output_type": "stream",
     "text": [
      "i 0\n",
      "j 0\n",
      "j 1\n",
      "j 2\n",
      "j 3\n",
      "i 1\n",
      "j 0\n",
      "j 1\n",
      "j 2\n",
      "j 3\n",
      "i 2\n",
      "j 0\n",
      "j 1\n",
      "j 2\n",
      "j 3\n",
      "i 3\n",
      "j 0\n",
      "j 1\n",
      "j 2\n",
      "j 3\n",
      "┏━━━┳━━━┳━━━┳━━━┓\n",
      "┃       ┃   ┃   ┃\n",
      "┣━━━╋   ╋   ╋   ┫\n",
      "┃       ┃   ┃   ┃\n",
      "┣━━━╋   ╋   ╋   ┫\n",
      "┃   ┃           ┃\n",
      "┣   ╋━━━╋━━━╋   ┫\n",
      "┃               ┃\n",
      "┗━━━┻━━━┻━━━┻━━━┛\n"
     ]
    }
   ],
   "source": [
    "laby = Maze.gen_btree(4, 4)\n",
    "print(laby)"
   ]
  },
  {
   "cell_type": "code",
   "execution_count": 23,
   "id": "a19f8c8a6f4a892e",
   "metadata": {
    "ExecuteTime": {
     "end_time": "2024-03-17T20:31:42.732688Z",
     "start_time": "2024-03-17T20:31:42.727314Z"
    }
   },
   "outputs": [
    {
     "name": "stdout",
     "output_type": "stream",
     "text": [
      "i 0\n",
      "j 0\n",
      "j 1\n",
      "j 2\n",
      "i 1\n",
      "j 0\n",
      "j 1\n",
      "j 2\n",
      "i 2\n",
      "j 0\n",
      "j 1\n",
      "j 2\n",
      "┏━━━┳━━━┳━━━┳━━━┓\n",
      "┃   ┃       ┃   ┃\n",
      "┣   ╋   ╋━━━╋   ┫\n",
      "┃       ┃   ┃   ┃\n",
      "┣   ╋━━━╋   ╋   ┫\n",
      "┃       ┃       ┃\n",
      "┣━━━╋   ╋━━━╋   ┫\n",
      "┃               ┃\n",
      "┗━━━┻━━━┻━━━┻━━━┛\n"
     ]
    }
   ],
   "source": [
    "laby = Maze.gen_sidewinder(4, 4)\n",
    "print(laby)"
   ]
  },
  {
   "cell_type": "code",
   "execution_count": 24,
   "id": "a87cf9f01aa012e2",
   "metadata": {
    "ExecuteTime": {
     "end_time": "2024-03-17T20:31:42.850592Z",
     "start_time": "2024-03-17T20:31:42.774686Z"
    }
   },
   "outputs": [
    {
     "name": "stdout",
     "output_type": "stream",
     "text": [
      "┏━━━┳━━━┳━━━┳━━━┳━━━┳━━━┳━━━┳━━━┳━━━┳━━━┳━━━┳━━━┳━━━┳━━━┳━━━┓\n",
      "┃               ┃           ┃       ┃       ┃   ┃       ┃   ┃\n",
      "┣   ╋━━━╋━━━╋   ╋   ╋   ╋   ╋   ╋━━━╋   ╋   ╋   ╋   ╋━━━╋   ┫\n",
      "┃       ┃   ┃   ┃   ┃   ┃   ┃           ┃           ┃       ┃\n",
      "┣   ╋━━━╋   ╋━━━╋   ╋━━━╋   ╋━━━╋   ╋   ╋━━━╋━━━╋━━━╋━━━╋   ┫\n",
      "┃               ┃       ┃   ┃       ┃           ┃           ┃\n",
      "┣   ╋━━━╋━━━╋   ╋   ╋━━━╋━━━╋━━━╋━━━╋━━━╋   ╋━━━╋   ╋   ╋   ┫\n",
      "┃   ┃               ┃   ┃       ┃                   ┃   ┃   ┃\n",
      "┣━━━╋   ╋━━━╋   ╋   ╋   ╋   ╋━━━╋   ╋━━━╋   ╋━━━╋━━━╋   ╋   ┫\n",
      "┃           ┃   ┃       ┃       ┃   ┃   ┃   ┃   ┃       ┃   ┃\n",
      "┣   ╋━━━╋━━━╋   ╋━━━╋━━━╋━━━╋   ╋━━━╋   ╋   ╋   ╋━━━╋━━━╋   ┫\n",
      "┃       ┃                   ┃       ┃       ┃       ┃   ┃   ┃\n",
      "┣━━━╋━━━╋   ╋━━━╋━━━╋━━━╋━━━╋   ╋━━━╋   ╋━━━╋━━━╋   ╋   ╋━━━┫\n",
      "┃   ┃   ┃           ┃       ┃           ┃               ┃   ┃\n",
      "┣   ╋   ╋   ╋━━━╋━━━╋   ╋   ╋━━━╋━━━╋   ╋━━━╋━━━╋   ╋━━━╋   ┫\n",
      "┃   ┃   ┃               ┃           ┃   ┃               ┃   ┃\n",
      "┣   ╋   ╋━━━╋   ╋   ╋━━━╋━━━╋   ╋━━━╋   ╋━━━╋   ╋   ╋   ╋   ┫\n",
      "┃       ┃       ┃       ┃       ┃   ┃   ┃   ┃   ┃   ┃       ┃\n",
      "┣   ╋━━━╋━━━╋   ╋━━━╋━━━╋   ╋━━━╋   ╋   ╋   ╋   ╋━━━╋━━━╋   ┫\n",
      "┃                       ┃       ┃               ┃           ┃\n",
      "┣   ╋━━━╋━━━╋   ╋━━━╋━━━╋   ╋   ╋   ╋   ╋━━━╋━━━╋   ╋━━━╋   ┫\n",
      "┃       ┃       ┃           ┃       ┃           ┃       ┃   ┃\n",
      "┣   ╋━━━╋━━━╋   ╋━━━╋   ╋━━━╋   ╋   ╋━━━╋━━━╋━━━╋━━━╋━━━╋━━━┫\n",
      "┃           ┃   ┃           ┃   ┃   ┃   ┃           ┃       ┃\n",
      "┣━━━╋━━━╋   ╋   ╋   ╋━━━╋━━━╋   ╋   ╋   ╋   ╋━━━╋━━━╋   ╋━━━┫\n",
      "┃           ┃   ┃       ┃   ┃   ┃                           ┃\n",
      "┣   ╋   ╋━━━╋   ╋━━━╋━━━╋   ╋━━━╋━━━╋━━━╋   ╋━━━╋   ╋   ╋━━━┫\n",
      "┃   ┃   ┃                       ┃   ┃           ┃   ┃       ┃\n",
      "┣━━━╋━━━╋   ╋   ╋   ╋━━━╋   ╋   ╋   ╋━━━╋   ╋━━━╋   ╋   ╋   ┫\n",
      "┃           ┃   ┃   ┃       ┃   ┃               ┃   ┃   ┃   ┃\n",
      "┗━━━┻━━━┻━━━┻━━━┻━━━┻━━━┻━━━┻━━━┻━━━┻━━━┻━━━┻━━━┻━━━┻━━━┻━━━┛\n"
     ]
    }
   ],
   "source": [
    "laby = Maze.gen_fusion(15,15)\n",
    "print(laby)"
   ]
  },
  {
   "cell_type": "code",
   "execution_count": 25,
   "id": "83bc34a2d6739e8c",
   "metadata": {
    "ExecuteTime": {
     "end_time": "2024-03-17T20:31:42.935189Z",
     "start_time": "2024-03-17T20:31:42.871334Z"
    }
   },
   "outputs": [
    {
     "name": "stdout",
     "output_type": "stream",
     "text": [
      "┏━━━┳━━━┳━━━┳━━━┳━━━┳━━━┳━━━┳━━━┳━━━┳━━━┳━━━┳━━━┳━━━┳━━━┳━━━┓\n",
      "┃           ┃                       ┃           ┃           ┃\n",
      "┣   ╋━━━╋━━━╋   ╋━━━╋━━━╋━━━╋━━━╋   ╋   ╋   ╋   ╋   ╋━━━╋   ┫\n",
      "┃           ┃   ┃               ┃       ┃   ┃       ┃       ┃\n",
      "┣   ╋━━━╋   ╋   ╋   ╋━━━╋━━━╋   ╋━━━╋   ╋   ╋━━━╋━━━╋   ╋━━━┫\n",
      "┃   ┃   ┃       ┃   ┃       ┃       ┃   ┃           ┃       ┃\n",
      "┣   ╋   ╋━━━╋━━━╋   ╋   ╋   ╋━━━╋   ╋━━━╋   ╋━━━╋   ╋━━━╋━━━┫\n",
      "┃   ┃       ┃       ┃   ┃       ┃       ┃       ┃           ┃\n",
      "┣   ╋   ╋━━━╋   ╋━━━╋   ╋━━━╋   ╋━━━╋   ╋━━━╋━━━╋━━━╋   ╋   ┫\n",
      "┃   ┃   ┃       ┃       ┃           ┃   ┃           ┃   ┃   ┃\n",
      "┣   ╋   ╋   ╋━━━╋   ╋━━━╋   ╋━━━╋   ╋   ╋   ╋━━━╋   ╋   ╋   ┫\n",
      "┃       ┃   ┃       ┃   ┃   ┃       ┃           ┃   ┃   ┃   ┃\n",
      "┣   ╋━━━╋   ╋   ╋━━━╋   ╋   ╋   ╋━━━╋━━━╋━━━╋━━━╋   ╋━━━╋   ┫\n",
      "┃   ┃       ┃           ┃   ┃       ┃   ┃           ┃       ┃\n",
      "┣━━━╋   ╋━━━╋━━━╋━━━╋   ╋   ╋━━━╋   ╋   ╋━━━╋━━━╋━━━╋   ╋━━━┫\n",
      "┃       ┃       ┃       ┃   ┃               ┃               ┃\n",
      "┣   ╋━━━╋   ╋   ╋━━━╋━━━╋   ╋━━━╋━━━╋━━━╋━━━╋   ╋━━━╋━━━╋   ┫\n",
      "┃           ┃           ┃   ┃                   ┃       ┃   ┃\n",
      "┣━━━╋━━━╋━━━╋━━━╋━━━╋   ╋   ╋   ╋━━━╋━━━╋━━━╋━━━╋   ╋   ╋   ┫\n",
      "┃                   ┃   ┃   ┃       ┃   ┃           ┃   ┃   ┃\n",
      "┣   ╋   ╋━━━╋━━━╋━━━╋   ╋   ╋━━━╋   ╋   ╋   ╋━━━╋━━━╋   ╋   ┫\n",
      "┃   ┃                   ┃   ┃           ┃           ┃       ┃\n",
      "┣   ╋━━━╋━━━╋━━━╋━━━╋━━━╋   ╋   ╋━━━╋━━━╋   ╋━━━╋   ╋━━━╋   ┫\n",
      "┃       ┃           ┃       ┃   ┃       ┃       ┃   ┃       ┃\n",
      "┣━━━╋   ╋━━━╋   ╋   ╋   ╋━━━╋   ╋   ╋   ╋━━━╋   ╋   ╋━━━╋━━━┫\n",
      "┃   ┃           ┃   ┃           ┃   ┃       ┃   ┃           ┃\n",
      "┣   ╋━━━╋━━━╋━━━╋   ╋━━━╋━━━╋━━━╋   ╋━━━╋   ╋━━━╋━━━╋━━━╋   ┫\n",
      "┃               ┃           ┃       ┃   ┃   ┃               ┃\n",
      "┣   ╋━━━╋   ╋━━━╋━━━╋━━━╋   ╋   ╋━━━╋   ╋   ╋   ╋━━━╋━━━╋   ┫\n",
      "┃       ┃                       ┃               ┃           ┃\n",
      "┗━━━┻━━━┻━━━┻━━━┻━━━┻━━━┻━━━┻━━━┻━━━┻━━━┻━━━┻━━━┻━━━┻━━━┻━━━┛\n"
     ]
    }
   ],
   "source": [
    "laby = Maze.gen_exploration(15,15)\n",
    "print(laby)"
   ]
  },
  {
   "cell_type": "code",
   "execution_count": 26,
   "id": "3b19757125ef27f2",
   "metadata": {
    "ExecuteTime": {
     "end_time": "2024-03-17T20:31:42.969061Z",
     "start_time": "2024-03-17T20:31:42.938191Z"
    }
   },
   "outputs": [
    {
     "name": "stdout",
     "output_type": "stream",
     "text": [
      "┏━━━┳━━━┳━━━┳━━━┳━━━┳━━━┳━━━┳━━━┳━━━┳━━━┳━━━┳━━━┓\n",
      "┃               ┃                   ┃   ┃       ┃\n",
      "┣   ╋━━━╋━━━╋━━━╋   ╋   ╋━━━╋   ╋━━━╋   ╋━━━╋   ┫\n",
      "┃       ┃   ┃       ┃       ┃   ┃               ┃\n",
      "┣   ╋   ╋   ╋━━━╋━━━╋   ╋━━━╋━━━╋   ╋━━━╋   ╋━━━┫\n",
      "┃   ┃   ┃       ┃               ┃       ┃   ┃   ┃\n",
      "┣   ╋━━━╋   ╋━━━╋   ╋━━━╋━━━╋━━━╋   ╋━━━╋━━━╋   ┫\n",
      "┃       ┃       ┃   ┃       ┃                   ┃\n",
      "┣━━━╋   ╋━━━╋   ╋   ╋   ╋   ╋   ╋   ╋━━━╋   ╋━━━┫\n",
      "┃       ┃       ┃       ┃       ┃   ┃   ┃       ┃\n",
      "┣━━━╋   ╋   ╋━━━╋   ╋━━━╋━━━╋━━━╋━━━╋   ╋━━━╋   ┫\n",
      "┃           ┃           ┃           ┃       ┃   ┃\n",
      "┣   ╋━━━╋   ╋━━━╋━━━╋━━━╋━━━╋   ╋   ╋━━━╋   ╋   ┫\n",
      "┃       ┃   ┃       ┃       ┃   ┃       ┃       ┃\n",
      "┣━━━╋   ╋   ╋   ╋━━━╋━━━╋   ╋━━━╋   ╋━━━╋   ╋━━━┫\n",
      "┃       ┃           ┃                   ┃       ┃\n",
      "┣━━━╋   ╋━━━╋━━━╋━━━╋━━━╋━━━╋   ╋   ╋━━━╋━━━╋   ┫\n",
      "┃       ┃               ┃       ┃       ┃       ┃\n",
      "┣   ╋━━━╋   ╋   ╋━━━╋   ╋   ╋   ╋   ╋━━━╋━━━╋   ┫\n",
      "┃   ┃       ┃   ┃           ┃   ┃   ┃           ┃\n",
      "┣   ╋━━━╋   ╋   ╋━━━╋━━━╋━━━╋━━━╋   ╋   ╋━━━╋   ┫\n",
      "┃           ┃       ┃       ┃           ┃       ┃\n",
      "┣━━━╋   ╋   ╋   ╋   ╋   ╋━━━╋   ╋━━━╋━━━╋   ╋━━━┫\n",
      "┃       ┃   ┃   ┃       ┃           ┃           ┃\n",
      "┗━━━┻━━━┻━━━┻━━━┻━━━┻━━━┻━━━┻━━━┻━━━┻━━━┻━━━┻━━━┛\n"
     ]
    }
   ],
   "source": [
    "laby = Maze.gen_wilson(12, 12)\n",
    "print(laby)"
   ]
  },
  {
   "cell_type": "markdown",
   "id": "09757295",
   "metadata": {},
   "source": [
    "# 6 Résolution"
   ]
  },
  {
   "cell_type": "markdown",
   "id": "bdaa3cf9",
   "metadata": {},
   "source": [
    "## 6.1 Résolution par parcours"
   ]
  },
  {
   "cell_type": "code",
   "execution_count": 27,
   "id": "a52bd41f",
   "metadata": {
    "ExecuteTime": {
     "end_time": "2024-03-17T20:31:43.062309Z",
     "start_time": "2024-03-17T20:31:43.016921Z"
    }
   },
   "outputs": [
    {
     "name": "stdout",
     "output_type": "stream",
     "text": [
      "┏━━━┳━━━┳━━━┳━━━┳━━━┳━━━┳━━━┳━━━┳━━━┳━━━┳━━━┳━━━┳━━━┳━━━┳━━━┓\n",
      "┃ D ┃                                       ┃       ┃   ┃   ┃\n",
      "┣   ╋   ╋━━━╋━━━╋   ╋━━━╋━━━╋━━━╋   ╋━━━╋━━━╋   ╋━━━╋   ╋   ┫\n",
      "┃ * ┃           ┃   ┃                   ┃           ┃       ┃\n",
      "┣   ╋━━━╋━━━╋━━━╋   ╋━━━╋   ╋━━━╋━━━╋━━━╋   ╋   ╋━━━╋━━━╋   ┫\n",
      "┃ * ┃   ┃ *   *   *   * ┃   ┃       ┃   ┃   ┃       ┃       ┃\n",
      "┣   ╋   ╋   ╋━━━╋━━━╋   ╋━━━╋   ╋━━━╋   ╋━━━╋━━━╋   ╋   ╋   ┫\n",
      "┃ *   *   * ┃   ┃   ┃ *   * ┃                   ┃       ┃   ┃\n",
      "┣   ╋━━━╋━━━╋   ╋   ╋━━━╋   ╋   ╋━━━╋━━━╋━━━╋━━━╋   ╋━━━╋   ┫\n",
      "┃   ┃   ┃       ┃         *   *   * ┃           ┃       ┃   ┃\n",
      "┣━━━╋   ╋━━━╋   ╋━━━╋   ╋━━━╋━━━╋   ╋━━━╋   ╋━━━╋━━━╋   ╋━━━┫\n",
      "┃                               ┃ *   *     ┃   ┃           ┃\n",
      "┣━━━╋━━━╋   ╋━━━╋━━━╋   ╋   ╋   ╋   ╋   ╋   ╋   ╋   ╋   ╋━━━┫\n",
      "┃       ┃   ┃           ┃   ┃   ┃   ┃ * ┃   ┃       ┃   ┃   ┃\n",
      "┣━━━╋   ╋━━━╋━━━╋   ╋━━━╋━━━╋━━━╋━━━╋   ╋━━━╋━━━╋   ╋━━━╋   ┫\n",
      "┃               ┃           ┃       ┃ *             ┃   ┃   ┃\n",
      "┣   ╋━━━╋━━━╋━━━╋━━━╋━━━╋━━━╋━━━╋   ╋   ╋━━━╋   ╋   ╋   ╋   ┫\n",
      "┃                   ┃       ┃       ┃ *   * ┃   ┃   ┃       ┃\n",
      "┣   ╋━━━╋   ╋━━━╋   ╋━━━╋   ╋━━━╋   ╋━━━╋   ╋━━━╋━━━╋   ╋━━━┫\n",
      "┃   ┃       ┃               ┃             *   * ┃   ┃       ┃\n",
      "┣━━━╋   ╋━━━╋   ╋   ╋━━━╋   ╋━━━╋   ╋━━━╋   ╋   ╋   ╋━━━╋   ┫\n",
      "┃   ┃   ┃   ┃   ┃   ┃               ┃       ┃ * ┃ *   *   * ┃\n",
      "┣   ╋━━━╋   ╋   ╋   ╋━━━╋   ╋━━━╋   ╋━━━╋━━━╋   ╋   ╋   ╋   ┫\n",
      "┃   ┃       ┃   ┃   ┃       ┃       ┃         *   * ┃   ┃ * ┃\n",
      "┣   ╋   ╋   ╋━━━╋   ╋━━━╋   ╋   ╋━━━╋━━━╋━━━╋━━━╋━━━╋━━━╋   ┫\n",
      "┃       ┃   ┃       ┃       ┃               ┃         *   * ┃\n",
      "┣━━━╋━━━╋   ╋   ╋━━━╋━━━╋━━━╋   ╋━━━╋   ╋━━━╋━━━╋   ╋   ╋━━━┫\n",
      "┃               ┃       ┃   ┃       ┃   ┃   ┃   ┃   ┃ *   * ┃\n",
      "┣   ╋   ╋   ╋━━━╋━━━╋   ╋   ╋   ╋━━━╋━━━╋   ╋   ╋━━━╋━━━╋   ┫\n",
      "┃   ┃   ┃           ┃                           ┃         A ┃\n",
      "┗━━━┻━━━┻━━━┻━━━┻━━━┻━━━┻━━━┻━━━┻━━━┻━━━┻━━━┻━━━┻━━━┻━━━┻━━━┛\n"
     ]
    }
   ],
   "source": [
    "laby = Maze.gen_fusion(15, 15)\n",
    "solution = laby.solve_dfs((0, 0), (14, 14))\n",
    "str_solution = {c:'*' for c in solution}\n",
    "str_solution[( 0,  0)] = 'D'\n",
    "str_solution[(14, 14)] = 'A'\n",
    "print(laby.overlay(str_solution))"
   ]
  },
  {
   "cell_type": "code",
   "execution_count": 28,
   "id": "413d438b",
   "metadata": {
    "ExecuteTime": {
     "end_time": "2024-03-17T20:31:43.114585Z",
     "start_time": "2024-03-17T20:31:43.064312Z"
    }
   },
   "outputs": [
    {
     "name": "stdout",
     "output_type": "stream",
     "text": [
      "┏━━━┳━━━┳━━━┳━━━┳━━━┳━━━┳━━━┳━━━┳━━━┳━━━┳━━━┳━━━┳━━━┳━━━┳━━━┓\n",
      "┃ D         ┃           ┃       ┃           ┃               ┃\n",
      "┣   ╋━━━╋   ╋━━━╋   ╋   ╋   ╋   ╋   ╋   ╋   ╋   ╋━━━╋━━━╋   ┫\n",
      "┃ * ┃               ┃   ┃   ┃   ┃   ┃   ┃       ┃       ┃   ┃\n",
      "┣   ╋━━━╋━━━╋━━━╋━━━╋   ╋   ╋   ╋━━━╋   ╋━━━╋━━━╋   ╋   ╋━━━┫\n",
      "┃ *   *   * ┃       ┃       ┃           ┃           ┃       ┃\n",
      "┣━━━╋━━━╋   ╋━━━╋   ╋━━━╋━━━╋━━━╋━━━╋   ╋   ╋━━━╋━━━╋━━━╋   ┫\n",
      "┃ *   *   * ┃           ┃       ┃       ┃   ┃           ┃   ┃\n",
      "┣   ╋━━━╋━━━╋   ╋━━━╋━━━╋   ╋   ╋   ╋━━━╋   ╋   ╋━━━╋   ╋   ┫\n",
      "┃ * ┃                       ┃           ┃   ┃   ┃   ┃   ┃   ┃\n",
      "┣   ╋━━━╋━━━╋━━━╋━━━╋━━━╋━━━╋━━━╋   ╋━━━╋   ╋   ╋   ╋   ╋   ┫\n",
      "┃ *   *   *   *   *   *   *   * ┃   ┃       ┃   ┃       ┃   ┃\n",
      "┣   ╋━━━╋━━━╋━━━╋━━━╋━━━╋━━━╋   ╋━━━╋   ╋━━━╋   ╋━━━╋━━━╋   ┫\n",
      "┃           ┃               ┃ * ┃       ┃   ┃               ┃\n",
      "┣━━━╋━━━╋   ╋   ╋   ╋━━━╋━━━╋   ╋   ╋━━━╋   ╋   ╋━━━╋━━━╋━━━┫\n",
      "┃   ┃       ┃   ┃   ┃ *   *   * ┃   ┃       ┃   ┃           ┃\n",
      "┣   ╋   ╋━━━╋━━━╋   ╋   ╋━━━╋━━━╋   ╋━━━╋   ╋   ╋━━━╋━━━╋   ┫\n",
      "┃       ┃           ┃ *   *   * ┃       ┃   ┃           ┃   ┃\n",
      "┣   ╋━━━╋   ╋   ╋━━━╋━━━╋━━━╋   ╋━━━╋━━━╋   ╋━━━╋━━━╋   ╋   ┫\n",
      "┃   ┃       ┃               ┃ *     ┃ *   * ┃ *   * ┃       ┃\n",
      "┣   ╋   ╋━━━╋━━━╋━━━╋   ╋━━━╋   ╋━━━╋   ╋   ╋   ╋   ╋━━━╋   ┫\n",
      "┃   ┃   ┃   ┃       ┃       ┃ * ┃ *   * ┃ *   * ┃ * ┃       ┃\n",
      "┣   ╋   ╋   ╋   ╋   ╋━━━╋   ╋   ╋   ╋━━━╋━━━╋━━━╋   ╋   ╋━━━┫\n",
      "┃   ┃       ┃   ┃       ┃   ┃ * ┃ *   *   * ┃ *   * ┃       ┃\n",
      "┣   ╋━━━╋   ╋   ╋━━━╋   ╋   ╋   ╋━━━╋━━━╋   ╋   ╋   ╋━━━╋   ┫\n",
      "┃       ┃   ┃   ┃   ┃       ┃ *   *     ┃ * ┃ * ┃       ┃   ┃\n",
      "┣━━━╋   ╋━━━╋   ╋   ╋━━━╋   ╋━━━╋   ╋━━━╋   ╋   ╋━━━╋━━━╋   ┫\n",
      "┃       ┃       ┃       ┃   ┃   ┃ *   *   * ┃ * ┃           ┃\n",
      "┣   ╋━━━╋   ╋━━━╋   ╋━━━╋   ╋   ╋━━━╋━━━╋━━━╋   ╋   ╋━━━╋━━━┫\n",
      "┃           ┃                               ┃ *   *   *   A ┃\n",
      "┗━━━┻━━━┻━━━┻━━━┻━━━┻━━━┻━━━┻━━━┻━━━┻━━━┻━━━┻━━━┻━━━┻━━━┻━━━┛\n"
     ]
    }
   ],
   "source": [
    "laby = Maze.gen_exploration(15, 15)\n",
    "solution = laby.solve_bfs((0, 0), (14, 14))\n",
    "str_solution = {c:'*' for c in solution}\n",
    "str_solution[( 0,  0)] = 'D'\n",
    "str_solution[(14, 14)] = 'A'\n",
    "print(laby.overlay(str_solution))"
   ]
  },
  {
   "cell_type": "markdown",
   "id": "28b510bc",
   "metadata": {},
   "source": [
    "## 6.2 Résolution en aveugle : « la main droite »"
   ]
  },
  {
   "cell_type": "code",
   "outputs": [
    {
     "name": "stdout",
     "output_type": "stream",
     "text": [
      "┏━━━┳━━━┳━━━┳━━━┳━━━┳━━━┳━━━┳━━━┳━━━┳━━━┳━━━┳━━━┳━━━┳━━━┳━━━┓\n",
      "┃ D     ┃                                   ┃               ┃\n",
      "┣   ╋   ╋━━━╋━━━╋   ╋━━━╋━━━╋━━━╋   ╋━━━╋   ╋   ╋━━━╋━━━╋   ┫\n",
      "┃ * ┃           ┃   ┃ *   *   * ┃   ┃       ┃   ┃       ┃   ┃\n",
      "┣   ╋━━━╋━━━╋   ╋━━━╋   ╋━━━╋   ╋   ╋━━━╋   ╋   ╋   ╋   ╋━━━┫\n",
      "┃ * ┃ *   * ┃   ┃ *   * ┃ * ┃ * ┃       ┃   ┃       ┃       ┃\n",
      "┣   ╋   ╋   ╋━━━╋   ╋━━━╋   ╋   ╋   ╋   ╋   ╋━━━╋━━━╋━━━╋   ┫\n",
      "┃ *   * ┃ * ┃     * ┃ *   * ┃ * ┃   ┃   ┃                   ┃\n",
      "┣━━━╋━━━╋   ╋━━━╋   ╋   ╋   ╋   ╋━━━╋   ╋━━━╋━━━╋━━━╋━━━╋   ┫\n",
      "┃ * ┃ *   * ┃ *   * ┃ * ┃ * ┃ * ┃       ┃           ┃   ┃   ┃\n",
      "┣   ╋   ╋━━━╋   ╋━━━╋   ╋   ╋   ╋   ╋━━━╋   ╋━━━╋   ╋   ╋   ┫\n",
      "┃ *   * ┃     * ┃ *   * ┃ *   * ┃   ┃       ┃   ┃   ┃       ┃\n",
      "┣   ╋━━━╋━━━╋   ╋   ╋━━━╋━━━╋━━━╋   ╋   ╋━━━╋   ╋   ╋━━━╋━━━┫\n",
      "┃ *   *   *   * ┃ *   * ┃           ┃           ┃           ┃\n",
      "┣━━━╋━━━╋━━━╋━━━╋━━━╋   ╋   ╋   ╋   ╋━━━╋━━━╋   ╋━━━╋━━━╋   ┫\n",
      "┃ * ┃ *   *   * ┃ *   * ┃   ┃   ┃   ┃           ┃ *   * ┃   ┃\n",
      "┣   ╋   ╋   ╋━━━╋   ╋━━━╋━━━╋   ╋   ╋   ╋━━━╋━━━╋   ╋   ╋   ┫\n",
      "┃ * ┃ * ┃ * ┃ *   * ┃           ┃   ┃           ┃ * ┃ *   * ┃\n",
      "┣   ╋   ╋   ╋   ╋━━━╋   ╋━━━╋━━━╋━━━╋━━━╋   ╋━━━╋   ╋━━━╋   ┫\n",
      "┃ *   * ┃ *   * ┃   ┃       ┃           ┃   ┃ *   * ┃ * ┃ * ┃\n",
      "┣   ╋━━━╋━━━╋━━━╋   ╋   ╋   ╋   ╋   ╋━━━╋   ╋   ╋━━━╋   ╋   ┫\n",
      "┃ * ┃           ┃       ┃       ┃           ┃ *   * ┃ *   * ┃\n",
      "┣   ╋━━━╋━━━╋   ╋   ╋━━━╋━━━╋━━━╋━━━╋━━━╋━━━╋   ╋   ╋━━━╋   ┫\n",
      "┃ * ┃ *   * ┃   ┃       ┃       ┃ *   *   * ┃   ┃ *   * ┃ * ┃\n",
      "┣   ╋   ╋   ╋   ╋━━━╋   ╋   ╋━━━╋   ╋━━━╋   ╋━━━╋   ╋   ╋   ┫\n",
      "┃ *   * ┃ * ┃               ┃ *   * ┃   ┃ *   * ┃   ┃ * ┃ * ┃\n",
      "┣━━━╋━━━╋   ╋   ╋━━━╋━━━╋━━━╋   ╋━━━╋   ╋━━━╋   ╋━━━╋   ╋   ┫\n",
      "┃ *   * ┃ * ┃       ┃ *   *   * ┃           ┃ *   *   * ┃ * ┃\n",
      "┣   ╋   ╋   ╋━━━╋━━━╋   ╋━━━╋━━━╋   ╋━━━╋   ╋━━━╋━━━╋━━━╋   ┫\n",
      "┃ * ┃ *   *   *   *   * ┃               ┃                 A ┃\n",
      "┗━━━┻━━━┻━━━┻━━━┻━━━┻━━━┻━━━┻━━━┻━━━┻━━━┻━━━┻━━━┻━━━┻━━━┻━━━┛\n"
     ]
    }
   ],
   "source": [
    "laby = Maze.gen_exploration(15, 15)\n",
    "solution = laby.solve_rhr((0, 0), (14, 14))\n",
    "str_solution = {c:'*' for c in solution}\n",
    "str_solution[( 0,  0)] = 'D'\n",
    "str_solution[(14, 14)] = 'A'\n",
    "print(laby.overlay(str_solution))"
   ],
   "metadata": {
    "ExecuteTime": {
     "end_time": "2024-03-17T20:31:43.202319Z",
     "start_time": "2024-03-17T20:31:43.141451Z"
    }
   },
   "id": "9fe4f3d7",
   "execution_count": 29
  },
  {
   "cell_type": "markdown",
   "source": [
    "# 7 Évaluation"
   ],
   "metadata": {
    "collapsed": false
   },
   "id": "404353c8ef8ceb6e"
  },
  {
   "cell_type": "code",
   "outputs": [
    {
     "name": "stdout",
     "output_type": "stream",
     "text": [
      "┏━━━┳━━━┳━━━┳━━━┳━━━┓\n",
      "┃                   ┃\n",
      "┣   ╋━━━╋   ╋━━━╋   ┫\n",
      "┃       ┃   ┃   ┃   ┃\n",
      "┣━━━╋━━━╋   ╋   ╋   ┫\n",
      "┃           ┃       ┃\n",
      "┣   ╋━━━╋━━━╋   ╋━━━┫\n",
      "┃           ┃       ┃\n",
      "┣   ╋━━━╋   ╋━━━╋   ┫\n",
      "┃   ┃       ┃       ┃\n",
      "┗━━━┻━━━┻━━━┻━━━┻━━━┛\n",
      "\n",
      "10\n",
      "8\n",
      "12\n",
      "5\n"
     ]
    }
   ],
   "source": [
    "laby = Maze.gen_exploration(5, 5)\n",
    "print(laby)\n",
    "print(laby.distance_geo((0, 0), (4, 4)))\n",
    "print(laby.distance_man((0, 0), (4, 4)))\n",
    "print(laby.worst_path_len((0, 0)))\n",
    "print(laby.dead_end_number())"
   ],
   "metadata": {
    "collapsed": false,
    "ExecuteTime": {
     "end_time": "2024-03-17T20:31:43.213044Z",
     "start_time": "2024-03-17T20:31:43.204327Z"
    }
   },
   "id": "3b0d7e954698768",
   "execution_count": 30
  },
  {
   "cell_type": "code",
   "outputs": [],
   "source": [],
   "metadata": {
    "collapsed": false,
    "ExecuteTime": {
     "end_time": "2024-03-17T20:31:43.323873Z",
     "start_time": "2024-03-17T20:31:43.320820Z"
    }
   },
   "id": "528c74f0fd693adf",
   "execution_count": 30
  }
 ],
 "metadata": {
  "kernelspec": {
   "display_name": "Python 3 (ipykernel)",
   "language": "python",
   "name": "python3"
  },
  "language_info": {
   "codemirror_mode": {
    "name": "ipython",
    "version": 3
   },
   "file_extension": ".py",
   "mimetype": "text/x-python",
   "name": "python",
   "nbconvert_exporter": "python",
   "pygments_lexer": "ipython3",
   "version": "3.8.10"
  }
 },
 "nbformat": 4,
 "nbformat_minor": 5
}
